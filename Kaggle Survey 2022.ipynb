{
 "cells": [
  {
   "cell_type": "markdown",
   "id": "1013cc23",
   "metadata": {},
   "source": [
    "# Kaggle Survey 2022"
   ]
  },
  {
   "cell_type": "code",
   "execution_count": 1,
   "id": "1c1416c5",
   "metadata": {},
   "outputs": [],
   "source": [
    "# Importing required libraries\n",
    "import pandas as pd\n",
    "import numpy as np\n",
    "import matplotlib.pyplot as plt\n",
    "%matplotlib inline\n",
    "import sklearn as sns\n",
    "import warnings\n",
    "warnings.filterwarnings('ignore')"
   ]
  },
  {
   "cell_type": "code",
   "execution_count": 2,
   "id": "df0262bd",
   "metadata": {},
   "outputs": [],
   "source": [
    "# Import the dataset (kaggle)\n",
    "df=pd.read_csv(\"kaggle_survey_2022_responses.csv\")   "
   ]
  },
  {
   "cell_type": "code",
   "execution_count": 3,
   "id": "b1f3e2d6",
   "metadata": {},
   "outputs": [
    {
     "data": {
      "text/html": [
       "<div>\n",
       "<style scoped>\n",
       "    .dataframe tbody tr th:only-of-type {\n",
       "        vertical-align: middle;\n",
       "    }\n",
       "\n",
       "    .dataframe tbody tr th {\n",
       "        vertical-align: top;\n",
       "    }\n",
       "\n",
       "    .dataframe thead th {\n",
       "        text-align: right;\n",
       "    }\n",
       "</style>\n",
       "<table border=\"1\" class=\"dataframe\">\n",
       "  <thead>\n",
       "    <tr style=\"text-align: right;\">\n",
       "      <th></th>\n",
       "      <th>Duration (in seconds)</th>\n",
       "      <th>Q2</th>\n",
       "      <th>Q3</th>\n",
       "      <th>Q4</th>\n",
       "      <th>Q5</th>\n",
       "      <th>Q6_1</th>\n",
       "      <th>Q6_2</th>\n",
       "      <th>Q6_3</th>\n",
       "      <th>Q6_4</th>\n",
       "      <th>Q6_5</th>\n",
       "      <th>...</th>\n",
       "      <th>Q44_3</th>\n",
       "      <th>Q44_4</th>\n",
       "      <th>Q44_5</th>\n",
       "      <th>Q44_6</th>\n",
       "      <th>Q44_7</th>\n",
       "      <th>Q44_8</th>\n",
       "      <th>Q44_9</th>\n",
       "      <th>Q44_10</th>\n",
       "      <th>Q44_11</th>\n",
       "      <th>Q44_12</th>\n",
       "    </tr>\n",
       "  </thead>\n",
       "  <tbody>\n",
       "    <tr>\n",
       "      <th>0</th>\n",
       "      <td>Duration (in seconds)</td>\n",
       "      <td>What is your age (# years)?</td>\n",
       "      <td>What is your gender? - Selected Choice</td>\n",
       "      <td>In which country do you currently reside?</td>\n",
       "      <td>Are you currently a student? (high school, uni...</td>\n",
       "      <td>On which platforms have you begun or completed...</td>\n",
       "      <td>On which platforms have you begun or completed...</td>\n",
       "      <td>On which platforms have you begun or completed...</td>\n",
       "      <td>On which platforms have you begun or completed...</td>\n",
       "      <td>On which platforms have you begun or completed...</td>\n",
       "      <td>...</td>\n",
       "      <td>Who/what are your favorite media sources that ...</td>\n",
       "      <td>Who/what are your favorite media sources that ...</td>\n",
       "      <td>Who/what are your favorite media sources that ...</td>\n",
       "      <td>Who/what are your favorite media sources that ...</td>\n",
       "      <td>Who/what are your favorite media sources that ...</td>\n",
       "      <td>Who/what are your favorite media sources that ...</td>\n",
       "      <td>Who/what are your favorite media sources that ...</td>\n",
       "      <td>Who/what are your favorite media sources that ...</td>\n",
       "      <td>Who/what are your favorite media sources that ...</td>\n",
       "      <td>Who/what are your favorite media sources that ...</td>\n",
       "    </tr>\n",
       "    <tr>\n",
       "      <th>1</th>\n",
       "      <td>121</td>\n",
       "      <td>30-34</td>\n",
       "      <td>Man</td>\n",
       "      <td>India</td>\n",
       "      <td>No</td>\n",
       "      <td>NaN</td>\n",
       "      <td>NaN</td>\n",
       "      <td>NaN</td>\n",
       "      <td>NaN</td>\n",
       "      <td>NaN</td>\n",
       "      <td>...</td>\n",
       "      <td>NaN</td>\n",
       "      <td>NaN</td>\n",
       "      <td>NaN</td>\n",
       "      <td>NaN</td>\n",
       "      <td>NaN</td>\n",
       "      <td>NaN</td>\n",
       "      <td>NaN</td>\n",
       "      <td>NaN</td>\n",
       "      <td>NaN</td>\n",
       "      <td>NaN</td>\n",
       "    </tr>\n",
       "    <tr>\n",
       "      <th>2</th>\n",
       "      <td>462</td>\n",
       "      <td>30-34</td>\n",
       "      <td>Man</td>\n",
       "      <td>Algeria</td>\n",
       "      <td>No</td>\n",
       "      <td>NaN</td>\n",
       "      <td>NaN</td>\n",
       "      <td>NaN</td>\n",
       "      <td>NaN</td>\n",
       "      <td>NaN</td>\n",
       "      <td>...</td>\n",
       "      <td>NaN</td>\n",
       "      <td>NaN</td>\n",
       "      <td>NaN</td>\n",
       "      <td>NaN</td>\n",
       "      <td>NaN</td>\n",
       "      <td>NaN</td>\n",
       "      <td>NaN</td>\n",
       "      <td>NaN</td>\n",
       "      <td>NaN</td>\n",
       "      <td>NaN</td>\n",
       "    </tr>\n",
       "    <tr>\n",
       "      <th>3</th>\n",
       "      <td>293</td>\n",
       "      <td>18-21</td>\n",
       "      <td>Man</td>\n",
       "      <td>Egypt</td>\n",
       "      <td>Yes</td>\n",
       "      <td>Coursera</td>\n",
       "      <td>edX</td>\n",
       "      <td>NaN</td>\n",
       "      <td>DataCamp</td>\n",
       "      <td>NaN</td>\n",
       "      <td>...</td>\n",
       "      <td>NaN</td>\n",
       "      <td>Kaggle (notebooks, forums, etc)</td>\n",
       "      <td>NaN</td>\n",
       "      <td>YouTube (Kaggle YouTube, Cloud AI Adventures, ...</td>\n",
       "      <td>Podcasts (Chai Time Data Science, O’Reilly Dat...</td>\n",
       "      <td>NaN</td>\n",
       "      <td>NaN</td>\n",
       "      <td>NaN</td>\n",
       "      <td>NaN</td>\n",
       "      <td>NaN</td>\n",
       "    </tr>\n",
       "    <tr>\n",
       "      <th>4</th>\n",
       "      <td>851</td>\n",
       "      <td>55-59</td>\n",
       "      <td>Man</td>\n",
       "      <td>France</td>\n",
       "      <td>No</td>\n",
       "      <td>Coursera</td>\n",
       "      <td>NaN</td>\n",
       "      <td>Kaggle Learn Courses</td>\n",
       "      <td>NaN</td>\n",
       "      <td>NaN</td>\n",
       "      <td>...</td>\n",
       "      <td>NaN</td>\n",
       "      <td>Kaggle (notebooks, forums, etc)</td>\n",
       "      <td>Course Forums (forums.fast.ai, Coursera forums...</td>\n",
       "      <td>NaN</td>\n",
       "      <td>NaN</td>\n",
       "      <td>Blogs (Towards Data Science, Analytics Vidhya,...</td>\n",
       "      <td>NaN</td>\n",
       "      <td>NaN</td>\n",
       "      <td>NaN</td>\n",
       "      <td>NaN</td>\n",
       "    </tr>\n",
       "    <tr>\n",
       "      <th>...</th>\n",
       "      <td>...</td>\n",
       "      <td>...</td>\n",
       "      <td>...</td>\n",
       "      <td>...</td>\n",
       "      <td>...</td>\n",
       "      <td>...</td>\n",
       "      <td>...</td>\n",
       "      <td>...</td>\n",
       "      <td>...</td>\n",
       "      <td>...</td>\n",
       "      <td>...</td>\n",
       "      <td>...</td>\n",
       "      <td>...</td>\n",
       "      <td>...</td>\n",
       "      <td>...</td>\n",
       "      <td>...</td>\n",
       "      <td>...</td>\n",
       "      <td>...</td>\n",
       "      <td>...</td>\n",
       "      <td>...</td>\n",
       "      <td>...</td>\n",
       "    </tr>\n",
       "    <tr>\n",
       "      <th>23993</th>\n",
       "      <td>331</td>\n",
       "      <td>22-24</td>\n",
       "      <td>Man</td>\n",
       "      <td>United States of America</td>\n",
       "      <td>Yes</td>\n",
       "      <td>NaN</td>\n",
       "      <td>NaN</td>\n",
       "      <td>NaN</td>\n",
       "      <td>NaN</td>\n",
       "      <td>NaN</td>\n",
       "      <td>...</td>\n",
       "      <td>NaN</td>\n",
       "      <td>Kaggle (notebooks, forums, etc)</td>\n",
       "      <td>NaN</td>\n",
       "      <td>YouTube (Kaggle YouTube, Cloud AI Adventures, ...</td>\n",
       "      <td>Podcasts (Chai Time Data Science, O’Reilly Dat...</td>\n",
       "      <td>NaN</td>\n",
       "      <td>Journal Publications (peer-reviewed journals, ...</td>\n",
       "      <td>NaN</td>\n",
       "      <td>NaN</td>\n",
       "      <td>NaN</td>\n",
       "    </tr>\n",
       "    <tr>\n",
       "      <th>23994</th>\n",
       "      <td>330</td>\n",
       "      <td>60-69</td>\n",
       "      <td>Man</td>\n",
       "      <td>United States of America</td>\n",
       "      <td>Yes</td>\n",
       "      <td>NaN</td>\n",
       "      <td>NaN</td>\n",
       "      <td>NaN</td>\n",
       "      <td>NaN</td>\n",
       "      <td>NaN</td>\n",
       "      <td>...</td>\n",
       "      <td>NaN</td>\n",
       "      <td>NaN</td>\n",
       "      <td>NaN</td>\n",
       "      <td>YouTube (Kaggle YouTube, Cloud AI Adventures, ...</td>\n",
       "      <td>NaN</td>\n",
       "      <td>NaN</td>\n",
       "      <td>NaN</td>\n",
       "      <td>NaN</td>\n",
       "      <td>NaN</td>\n",
       "      <td>NaN</td>\n",
       "    </tr>\n",
       "    <tr>\n",
       "      <th>23995</th>\n",
       "      <td>860</td>\n",
       "      <td>25-29</td>\n",
       "      <td>Man</td>\n",
       "      <td>Turkey</td>\n",
       "      <td>No</td>\n",
       "      <td>NaN</td>\n",
       "      <td>NaN</td>\n",
       "      <td>NaN</td>\n",
       "      <td>DataCamp</td>\n",
       "      <td>NaN</td>\n",
       "      <td>...</td>\n",
       "      <td>NaN</td>\n",
       "      <td>Kaggle (notebooks, forums, etc)</td>\n",
       "      <td>NaN</td>\n",
       "      <td>YouTube (Kaggle YouTube, Cloud AI Adventures, ...</td>\n",
       "      <td>NaN</td>\n",
       "      <td>NaN</td>\n",
       "      <td>NaN</td>\n",
       "      <td>NaN</td>\n",
       "      <td>NaN</td>\n",
       "      <td>NaN</td>\n",
       "    </tr>\n",
       "    <tr>\n",
       "      <th>23996</th>\n",
       "      <td>597</td>\n",
       "      <td>35-39</td>\n",
       "      <td>Woman</td>\n",
       "      <td>Israel</td>\n",
       "      <td>No</td>\n",
       "      <td>NaN</td>\n",
       "      <td>NaN</td>\n",
       "      <td>Kaggle Learn Courses</td>\n",
       "      <td>NaN</td>\n",
       "      <td>NaN</td>\n",
       "      <td>...</td>\n",
       "      <td>NaN</td>\n",
       "      <td>NaN</td>\n",
       "      <td>NaN</td>\n",
       "      <td>YouTube (Kaggle YouTube, Cloud AI Adventures, ...</td>\n",
       "      <td>NaN</td>\n",
       "      <td>NaN</td>\n",
       "      <td>NaN</td>\n",
       "      <td>NaN</td>\n",
       "      <td>NaN</td>\n",
       "      <td>NaN</td>\n",
       "    </tr>\n",
       "    <tr>\n",
       "      <th>23997</th>\n",
       "      <td>303</td>\n",
       "      <td>18-21</td>\n",
       "      <td>Man</td>\n",
       "      <td>India</td>\n",
       "      <td>Yes</td>\n",
       "      <td>NaN</td>\n",
       "      <td>NaN</td>\n",
       "      <td>NaN</td>\n",
       "      <td>NaN</td>\n",
       "      <td>NaN</td>\n",
       "      <td>...</td>\n",
       "      <td>NaN</td>\n",
       "      <td>NaN</td>\n",
       "      <td>NaN</td>\n",
       "      <td>NaN</td>\n",
       "      <td>NaN</td>\n",
       "      <td>NaN</td>\n",
       "      <td>NaN</td>\n",
       "      <td>NaN</td>\n",
       "      <td>NaN</td>\n",
       "      <td>Other</td>\n",
       "    </tr>\n",
       "  </tbody>\n",
       "</table>\n",
       "<p>23998 rows × 296 columns</p>\n",
       "</div>"
      ],
      "text/plain": [
       "       Duration (in seconds)                           Q2  \\\n",
       "0      Duration (in seconds)  What is your age (# years)?   \n",
       "1                        121                        30-34   \n",
       "2                        462                        30-34   \n",
       "3                        293                        18-21   \n",
       "4                        851                        55-59   \n",
       "...                      ...                          ...   \n",
       "23993                    331                        22-24   \n",
       "23994                    330                        60-69   \n",
       "23995                    860                        25-29   \n",
       "23996                    597                        35-39   \n",
       "23997                    303                        18-21   \n",
       "\n",
       "                                           Q3  \\\n",
       "0      What is your gender? - Selected Choice   \n",
       "1                                         Man   \n",
       "2                                         Man   \n",
       "3                                         Man   \n",
       "4                                         Man   \n",
       "...                                       ...   \n",
       "23993                                     Man   \n",
       "23994                                     Man   \n",
       "23995                                     Man   \n",
       "23996                                   Woman   \n",
       "23997                                     Man   \n",
       "\n",
       "                                              Q4  \\\n",
       "0      In which country do you currently reside?   \n",
       "1                                          India   \n",
       "2                                        Algeria   \n",
       "3                                          Egypt   \n",
       "4                                         France   \n",
       "...                                          ...   \n",
       "23993                   United States of America   \n",
       "23994                   United States of America   \n",
       "23995                                     Turkey   \n",
       "23996                                     Israel   \n",
       "23997                                      India   \n",
       "\n",
       "                                                      Q5  \\\n",
       "0      Are you currently a student? (high school, uni...   \n",
       "1                                                     No   \n",
       "2                                                     No   \n",
       "3                                                    Yes   \n",
       "4                                                     No   \n",
       "...                                                  ...   \n",
       "23993                                                Yes   \n",
       "23994                                                Yes   \n",
       "23995                                                 No   \n",
       "23996                                                 No   \n",
       "23997                                                Yes   \n",
       "\n",
       "                                                    Q6_1  \\\n",
       "0      On which platforms have you begun or completed...   \n",
       "1                                                    NaN   \n",
       "2                                                    NaN   \n",
       "3                                               Coursera   \n",
       "4                                               Coursera   \n",
       "...                                                  ...   \n",
       "23993                                                NaN   \n",
       "23994                                                NaN   \n",
       "23995                                                NaN   \n",
       "23996                                                NaN   \n",
       "23997                                                NaN   \n",
       "\n",
       "                                                    Q6_2  \\\n",
       "0      On which platforms have you begun or completed...   \n",
       "1                                                    NaN   \n",
       "2                                                    NaN   \n",
       "3                                                    edX   \n",
       "4                                                    NaN   \n",
       "...                                                  ...   \n",
       "23993                                                NaN   \n",
       "23994                                                NaN   \n",
       "23995                                                NaN   \n",
       "23996                                                NaN   \n",
       "23997                                                NaN   \n",
       "\n",
       "                                                    Q6_3  \\\n",
       "0      On which platforms have you begun or completed...   \n",
       "1                                                    NaN   \n",
       "2                                                    NaN   \n",
       "3                                                    NaN   \n",
       "4                                   Kaggle Learn Courses   \n",
       "...                                                  ...   \n",
       "23993                                                NaN   \n",
       "23994                                                NaN   \n",
       "23995                                                NaN   \n",
       "23996                               Kaggle Learn Courses   \n",
       "23997                                                NaN   \n",
       "\n",
       "                                                    Q6_4  \\\n",
       "0      On which platforms have you begun or completed...   \n",
       "1                                                    NaN   \n",
       "2                                                    NaN   \n",
       "3                                               DataCamp   \n",
       "4                                                    NaN   \n",
       "...                                                  ...   \n",
       "23993                                                NaN   \n",
       "23994                                                NaN   \n",
       "23995                                           DataCamp   \n",
       "23996                                                NaN   \n",
       "23997                                                NaN   \n",
       "\n",
       "                                                    Q6_5  ...  \\\n",
       "0      On which platforms have you begun or completed...  ...   \n",
       "1                                                    NaN  ...   \n",
       "2                                                    NaN  ...   \n",
       "3                                                    NaN  ...   \n",
       "4                                                    NaN  ...   \n",
       "...                                                  ...  ...   \n",
       "23993                                                NaN  ...   \n",
       "23994                                                NaN  ...   \n",
       "23995                                                NaN  ...   \n",
       "23996                                                NaN  ...   \n",
       "23997                                                NaN  ...   \n",
       "\n",
       "                                                   Q44_3  \\\n",
       "0      Who/what are your favorite media sources that ...   \n",
       "1                                                    NaN   \n",
       "2                                                    NaN   \n",
       "3                                                    NaN   \n",
       "4                                                    NaN   \n",
       "...                                                  ...   \n",
       "23993                                                NaN   \n",
       "23994                                                NaN   \n",
       "23995                                                NaN   \n",
       "23996                                                NaN   \n",
       "23997                                                NaN   \n",
       "\n",
       "                                                   Q44_4  \\\n",
       "0      Who/what are your favorite media sources that ...   \n",
       "1                                                    NaN   \n",
       "2                                                    NaN   \n",
       "3                        Kaggle (notebooks, forums, etc)   \n",
       "4                        Kaggle (notebooks, forums, etc)   \n",
       "...                                                  ...   \n",
       "23993                    Kaggle (notebooks, forums, etc)   \n",
       "23994                                                NaN   \n",
       "23995                    Kaggle (notebooks, forums, etc)   \n",
       "23996                                                NaN   \n",
       "23997                                                NaN   \n",
       "\n",
       "                                                   Q44_5  \\\n",
       "0      Who/what are your favorite media sources that ...   \n",
       "1                                                    NaN   \n",
       "2                                                    NaN   \n",
       "3                                                    NaN   \n",
       "4      Course Forums (forums.fast.ai, Coursera forums...   \n",
       "...                                                  ...   \n",
       "23993                                                NaN   \n",
       "23994                                                NaN   \n",
       "23995                                                NaN   \n",
       "23996                                                NaN   \n",
       "23997                                                NaN   \n",
       "\n",
       "                                                   Q44_6  \\\n",
       "0      Who/what are your favorite media sources that ...   \n",
       "1                                                    NaN   \n",
       "2                                                    NaN   \n",
       "3      YouTube (Kaggle YouTube, Cloud AI Adventures, ...   \n",
       "4                                                    NaN   \n",
       "...                                                  ...   \n",
       "23993  YouTube (Kaggle YouTube, Cloud AI Adventures, ...   \n",
       "23994  YouTube (Kaggle YouTube, Cloud AI Adventures, ...   \n",
       "23995  YouTube (Kaggle YouTube, Cloud AI Adventures, ...   \n",
       "23996  YouTube (Kaggle YouTube, Cloud AI Adventures, ...   \n",
       "23997                                                NaN   \n",
       "\n",
       "                                                   Q44_7  \\\n",
       "0      Who/what are your favorite media sources that ...   \n",
       "1                                                    NaN   \n",
       "2                                                    NaN   \n",
       "3      Podcasts (Chai Time Data Science, O’Reilly Dat...   \n",
       "4                                                    NaN   \n",
       "...                                                  ...   \n",
       "23993  Podcasts (Chai Time Data Science, O’Reilly Dat...   \n",
       "23994                                                NaN   \n",
       "23995                                                NaN   \n",
       "23996                                                NaN   \n",
       "23997                                                NaN   \n",
       "\n",
       "                                                   Q44_8  \\\n",
       "0      Who/what are your favorite media sources that ...   \n",
       "1                                                    NaN   \n",
       "2                                                    NaN   \n",
       "3                                                    NaN   \n",
       "4      Blogs (Towards Data Science, Analytics Vidhya,...   \n",
       "...                                                  ...   \n",
       "23993                                                NaN   \n",
       "23994                                                NaN   \n",
       "23995                                                NaN   \n",
       "23996                                                NaN   \n",
       "23997                                                NaN   \n",
       "\n",
       "                                                   Q44_9  \\\n",
       "0      Who/what are your favorite media sources that ...   \n",
       "1                                                    NaN   \n",
       "2                                                    NaN   \n",
       "3                                                    NaN   \n",
       "4                                                    NaN   \n",
       "...                                                  ...   \n",
       "23993  Journal Publications (peer-reviewed journals, ...   \n",
       "23994                                                NaN   \n",
       "23995                                                NaN   \n",
       "23996                                                NaN   \n",
       "23997                                                NaN   \n",
       "\n",
       "                                                  Q44_10  \\\n",
       "0      Who/what are your favorite media sources that ...   \n",
       "1                                                    NaN   \n",
       "2                                                    NaN   \n",
       "3                                                    NaN   \n",
       "4                                                    NaN   \n",
       "...                                                  ...   \n",
       "23993                                                NaN   \n",
       "23994                                                NaN   \n",
       "23995                                                NaN   \n",
       "23996                                                NaN   \n",
       "23997                                                NaN   \n",
       "\n",
       "                                                  Q44_11  \\\n",
       "0      Who/what are your favorite media sources that ...   \n",
       "1                                                    NaN   \n",
       "2                                                    NaN   \n",
       "3                                                    NaN   \n",
       "4                                                    NaN   \n",
       "...                                                  ...   \n",
       "23993                                                NaN   \n",
       "23994                                                NaN   \n",
       "23995                                                NaN   \n",
       "23996                                                NaN   \n",
       "23997                                                NaN   \n",
       "\n",
       "                                                  Q44_12  \n",
       "0      Who/what are your favorite media sources that ...  \n",
       "1                                                    NaN  \n",
       "2                                                    NaN  \n",
       "3                                                    NaN  \n",
       "4                                                    NaN  \n",
       "...                                                  ...  \n",
       "23993                                                NaN  \n",
       "23994                                                NaN  \n",
       "23995                                                NaN  \n",
       "23996                                                NaN  \n",
       "23997                                              Other  \n",
       "\n",
       "[23998 rows x 296 columns]"
      ]
     },
     "execution_count": 3,
     "metadata": {},
     "output_type": "execute_result"
    }
   ],
   "source": [
    "df"
   ]
  },
  {
   "cell_type": "code",
   "execution_count": 4,
   "id": "592ed017",
   "metadata": {},
   "outputs": [
    {
     "data": {
      "text/plain": [
       "Index(['Duration (in seconds)', 'Q2', 'Q3', 'Q4', 'Q5', 'Q6_1', 'Q6_2', 'Q6_3',\n",
       "       'Q6_4', 'Q6_5',\n",
       "       ...\n",
       "       'Q44_3', 'Q44_4', 'Q44_5', 'Q44_6', 'Q44_7', 'Q44_8', 'Q44_9', 'Q44_10',\n",
       "       'Q44_11', 'Q44_12'],\n",
       "      dtype='object', length=296)"
      ]
     },
     "execution_count": 4,
     "metadata": {},
     "output_type": "execute_result"
    }
   ],
   "source": [
    "# All Column Names\n",
    "df.columns"
   ]
  },
  {
   "cell_type": "code",
   "execution_count": 5,
   "id": "aa5bb211",
   "metadata": {},
   "outputs": [
    {
     "data": {
      "text/plain": [
       "(23998, 296)"
      ]
     },
     "execution_count": 5,
     "metadata": {},
     "output_type": "execute_result"
    }
   ],
   "source": [
    "#Basic commands, here we get no. of rows & columns.\n",
    "df.shape "
   ]
  },
  {
   "cell_type": "code",
   "execution_count": 6,
   "id": "f80dc5fc",
   "metadata": {
    "scrolled": true
   },
   "outputs": [
    {
     "data": {
      "text/plain": [
       "Duration (in seconds)        0\n",
       "Q2                           0\n",
       "Q3                           0\n",
       "Q4                           0\n",
       "Q5                           0\n",
       "                         ...  \n",
       "Q44_8                    16231\n",
       "Q44_9                    20193\n",
       "Q44_10                   22271\n",
       "Q44_11                   22729\n",
       "Q44_12                   23162\n",
       "Length: 296, dtype: int64"
      ]
     },
     "execution_count": 6,
     "metadata": {},
     "output_type": "execute_result"
    }
   ],
   "source": [
    "#Check the null values presene in the dataset.\n",
    "df.isnull().sum()"
   ]
  },
  {
   "cell_type": "code",
   "execution_count": 7,
   "id": "5c500d99",
   "metadata": {
    "scrolled": true
   },
   "outputs": [
    {
     "data": {
      "text/html": [
       "<div>\n",
       "<style scoped>\n",
       "    .dataframe tbody tr th:only-of-type {\n",
       "        vertical-align: middle;\n",
       "    }\n",
       "\n",
       "    .dataframe tbody tr th {\n",
       "        vertical-align: top;\n",
       "    }\n",
       "\n",
       "    .dataframe thead th {\n",
       "        text-align: right;\n",
       "    }\n",
       "</style>\n",
       "<table border=\"1\" class=\"dataframe\">\n",
       "  <thead>\n",
       "    <tr style=\"text-align: right;\">\n",
       "      <th></th>\n",
       "      <th>Duration (in seconds)</th>\n",
       "      <th>Q2</th>\n",
       "      <th>Q3</th>\n",
       "      <th>Q4</th>\n",
       "      <th>Q5</th>\n",
       "      <th>Q6_1</th>\n",
       "      <th>Q6_2</th>\n",
       "      <th>Q6_3</th>\n",
       "      <th>Q6_4</th>\n",
       "      <th>Q6_5</th>\n",
       "      <th>...</th>\n",
       "      <th>Q44_3</th>\n",
       "      <th>Q44_4</th>\n",
       "      <th>Q44_5</th>\n",
       "      <th>Q44_6</th>\n",
       "      <th>Q44_7</th>\n",
       "      <th>Q44_8</th>\n",
       "      <th>Q44_9</th>\n",
       "      <th>Q44_10</th>\n",
       "      <th>Q44_11</th>\n",
       "      <th>Q44_12</th>\n",
       "    </tr>\n",
       "  </thead>\n",
       "  <tbody>\n",
       "    <tr>\n",
       "      <th>count</th>\n",
       "      <td>23998</td>\n",
       "      <td>23998</td>\n",
       "      <td>23998</td>\n",
       "      <td>23998</td>\n",
       "      <td>23998</td>\n",
       "      <td>9700</td>\n",
       "      <td>2475</td>\n",
       "      <td>6629</td>\n",
       "      <td>3719</td>\n",
       "      <td>945</td>\n",
       "      <td>...</td>\n",
       "      <td>2679</td>\n",
       "      <td>11182</td>\n",
       "      <td>4007</td>\n",
       "      <td>11958</td>\n",
       "      <td>2121</td>\n",
       "      <td>7767</td>\n",
       "      <td>3805</td>\n",
       "      <td>1727</td>\n",
       "      <td>1269</td>\n",
       "      <td>836</td>\n",
       "    </tr>\n",
       "    <tr>\n",
       "      <th>unique</th>\n",
       "      <td>4329</td>\n",
       "      <td>12</td>\n",
       "      <td>6</td>\n",
       "      <td>59</td>\n",
       "      <td>3</td>\n",
       "      <td>2</td>\n",
       "      <td>2</td>\n",
       "      <td>2</td>\n",
       "      <td>2</td>\n",
       "      <td>2</td>\n",
       "      <td>...</td>\n",
       "      <td>2</td>\n",
       "      <td>2</td>\n",
       "      <td>2</td>\n",
       "      <td>2</td>\n",
       "      <td>2</td>\n",
       "      <td>2</td>\n",
       "      <td>2</td>\n",
       "      <td>2</td>\n",
       "      <td>2</td>\n",
       "      <td>2</td>\n",
       "    </tr>\n",
       "    <tr>\n",
       "      <th>top</th>\n",
       "      <td>230</td>\n",
       "      <td>18-21</td>\n",
       "      <td>Man</td>\n",
       "      <td>India</td>\n",
       "      <td>No</td>\n",
       "      <td>Coursera</td>\n",
       "      <td>edX</td>\n",
       "      <td>Kaggle Learn Courses</td>\n",
       "      <td>DataCamp</td>\n",
       "      <td>Fast.ai</td>\n",
       "      <td>...</td>\n",
       "      <td>Reddit (r/machinelearning, etc)</td>\n",
       "      <td>Kaggle (notebooks, forums, etc)</td>\n",
       "      <td>Course Forums (forums.fast.ai, Coursera forums...</td>\n",
       "      <td>YouTube (Kaggle YouTube, Cloud AI Adventures, ...</td>\n",
       "      <td>Podcasts (Chai Time Data Science, O’Reilly Dat...</td>\n",
       "      <td>Blogs (Towards Data Science, Analytics Vidhya,...</td>\n",
       "      <td>Journal Publications (peer-reviewed journals, ...</td>\n",
       "      <td>Slack Communities (ods.ai, kagglenoobs, etc)</td>\n",
       "      <td>None</td>\n",
       "      <td>Other</td>\n",
       "    </tr>\n",
       "    <tr>\n",
       "      <th>freq</th>\n",
       "      <td>59</td>\n",
       "      <td>4559</td>\n",
       "      <td>18266</td>\n",
       "      <td>8792</td>\n",
       "      <td>12036</td>\n",
       "      <td>9699</td>\n",
       "      <td>2474</td>\n",
       "      <td>6628</td>\n",
       "      <td>3718</td>\n",
       "      <td>944</td>\n",
       "      <td>...</td>\n",
       "      <td>2678</td>\n",
       "      <td>11181</td>\n",
       "      <td>4006</td>\n",
       "      <td>11957</td>\n",
       "      <td>2120</td>\n",
       "      <td>7766</td>\n",
       "      <td>3804</td>\n",
       "      <td>1726</td>\n",
       "      <td>1268</td>\n",
       "      <td>835</td>\n",
       "    </tr>\n",
       "  </tbody>\n",
       "</table>\n",
       "<p>4 rows × 296 columns</p>\n",
       "</div>"
      ],
      "text/plain": [
       "        Duration (in seconds)     Q2     Q3     Q4     Q5      Q6_1  Q6_2  \\\n",
       "count                   23998  23998  23998  23998  23998      9700  2475   \n",
       "unique                   4329     12      6     59      3         2     2   \n",
       "top                       230  18-21    Man  India     No  Coursera   edX   \n",
       "freq                       59   4559  18266   8792  12036      9699  2474   \n",
       "\n",
       "                        Q6_3      Q6_4     Q6_5  ...  \\\n",
       "count                   6629      3719      945  ...   \n",
       "unique                     2         2        2  ...   \n",
       "top     Kaggle Learn Courses  DataCamp  Fast.ai  ...   \n",
       "freq                    6628      3718      944  ...   \n",
       "\n",
       "                                  Q44_3                            Q44_4  \\\n",
       "count                              2679                            11182   \n",
       "unique                                2                                2   \n",
       "top     Reddit (r/machinelearning, etc)  Kaggle (notebooks, forums, etc)   \n",
       "freq                               2678                            11181   \n",
       "\n",
       "                                                    Q44_5  \\\n",
       "count                                                4007   \n",
       "unique                                                  2   \n",
       "top     Course Forums (forums.fast.ai, Coursera forums...   \n",
       "freq                                                 4006   \n",
       "\n",
       "                                                    Q44_6  \\\n",
       "count                                               11958   \n",
       "unique                                                  2   \n",
       "top     YouTube (Kaggle YouTube, Cloud AI Adventures, ...   \n",
       "freq                                                11957   \n",
       "\n",
       "                                                    Q44_7  \\\n",
       "count                                                2121   \n",
       "unique                                                  2   \n",
       "top     Podcasts (Chai Time Data Science, O’Reilly Dat...   \n",
       "freq                                                 2120   \n",
       "\n",
       "                                                    Q44_8  \\\n",
       "count                                                7767   \n",
       "unique                                                  2   \n",
       "top     Blogs (Towards Data Science, Analytics Vidhya,...   \n",
       "freq                                                 7766   \n",
       "\n",
       "                                                    Q44_9  \\\n",
       "count                                                3805   \n",
       "unique                                                  2   \n",
       "top     Journal Publications (peer-reviewed journals, ...   \n",
       "freq                                                 3804   \n",
       "\n",
       "                                              Q44_10 Q44_11 Q44_12  \n",
       "count                                           1727   1269    836  \n",
       "unique                                             2      2      2  \n",
       "top     Slack Communities (ods.ai, kagglenoobs, etc)   None  Other  \n",
       "freq                                            1726   1268    835  \n",
       "\n",
       "[4 rows x 296 columns]"
      ]
     },
     "execution_count": 7,
     "metadata": {},
     "output_type": "execute_result"
    }
   ],
   "source": [
    "# To extract unique values,total count, frequency & so on...\n",
    "df.describe()"
   ]
  },
  {
   "cell_type": "markdown",
   "id": "f8e09864",
   "metadata": {},
   "source": [
    "## What is your age (# years)?"
   ]
  },
  {
   "cell_type": "code",
   "execution_count": 8,
   "id": "332e1d3a",
   "metadata": {},
   "outputs": [
    {
     "data": {
      "text/plain": [
       "18-21    4559\n",
       "25-29    4472\n",
       "22-24    4283\n",
       "30-34    2972\n",
       "35-39    2353\n",
       "40-44    1927\n",
       "45-49    1253\n",
       "50-54     914\n",
       "55-59     611\n",
       "60-69     526\n",
       "70+       127\n",
       "Name: Q2, dtype: int64"
      ]
     },
     "execution_count": 8,
     "metadata": {},
     "output_type": "execute_result"
    }
   ],
   "source": [
    "# Here we find the total count for the range of age.\n",
    "df['Q2'].value_counts()[:-1]"
   ]
  },
  {
   "cell_type": "code",
   "execution_count": 9,
   "id": "021917fa",
   "metadata": {},
   "outputs": [
    {
     "data": {
      "image/png": "[encoded data removed]",
      "text/plain": [
       "<Figure size 1080x360 with 1 Axes>"
      ]
     },
     "metadata": {
      "needs_background": "light"
     },
     "output_type": "display_data"
    }
   ],
   "source": [
    "# Plot a Bar graph\n",
    "plt.figure(figsize=(15,5))\n",
    "plt.bar(list(df['Q2'].value_counts().keys())[0:11],list(df['Q2'].value_counts())[0:11],color=['brown','purple','skyblue','r','black','orange','g','b','y','pink','Cyan'])\n",
    "plt.title('Age v/s Count',fontweight='bold',fontsize=20)\n",
    "plt.xlabel('Age',fontweight='bold',fontsize=15)\n",
    "plt.ylabel('Count',fontweight='bold',fontsize=15)\n",
    "plt.show()"
   ]
  },
  {
   "cell_type": "markdown",
   "id": "fcacba11",
   "metadata": {},
   "source": [
    "### Age of 18 to 21 years are mostly participated in this survey with a count of 4559 nos."
   ]
  },
  {
   "cell_type": "markdown",
   "id": "a25bb97f",
   "metadata": {},
   "source": [
    "## What is your gender? "
   ]
  },
  {
   "cell_type": "code",
   "execution_count": 10,
   "id": "773fd324",
   "metadata": {},
   "outputs": [
    {
     "data": {
      "text/plain": [
       "Man                        18266\n",
       "Woman                       5286\n",
       "Prefer not to say            334\n",
       "Nonbinary                     78\n",
       "Prefer to self-describe       33\n",
       "Name: Q3, dtype: int64"
      ]
     },
     "execution_count": 10,
     "metadata": {},
     "output_type": "execute_result"
    }
   ],
   "source": [
    "# Here we find total count of the participants considering their gender.\n",
    "df['Q3'].value_counts()[:-1]"
   ]
  },
  {
   "cell_type": "code",
   "execution_count": 11,
   "id": "14fbc4a5",
   "metadata": {},
   "outputs": [
    {
     "data": {
      "image/png": "[encoded data removed]",
      "text/plain": [
       "<Figure size 1080x360 with 1 Axes>"
      ]
     },
     "metadata": {
      "needs_background": "light"
     },
     "output_type": "display_data"
    }
   ],
   "source": [
    "#Plot a histogram.\n",
    "plt.figure(figsize=(15,5))\n",
    "plt.hist(df['Q3'][1:])\n",
    "plt.title('Gender v/s Count',fontweight='bold',fontsize=20)\n",
    "plt.xlabel('Gender',fontweight='bold',fontsize=15)\n",
    "plt.ylabel('Count',fontweight='bold',fontsize=15)\n",
    "plt.show()"
   ]
  },
  {
   "cell_type": "markdown",
   "id": "99580dd8",
   "metadata": {},
   "source": [
    "### Total 18266 Men & 5286 Women participated in the survey."
   ]
  },
  {
   "cell_type": "markdown",
   "id": "9c7148c0",
   "metadata": {},
   "source": [
    "## In which country do you currently reside?"
   ]
  },
  {
   "cell_type": "code",
   "execution_count": 12,
   "id": "46bb3164",
   "metadata": {},
   "outputs": [
    {
     "data": {
      "text/plain": [
       "India                                                   8792\n",
       "United States of America                                2920\n",
       "Other                                                   1430\n",
       "Brazil                                                   833\n",
       "Nigeria                                                  731\n",
       "Pakistan                                                 620\n",
       "Japan                                                    556\n",
       "China                                                    453\n",
       "Egypt                                                    383\n",
       "Mexico                                                   380\n",
       "Indonesia                                                376\n",
       "Turkey                                                   345\n",
       "Russia                                                   324\n",
       "South Korea                                              317\n",
       "France                                                   262\n",
       "United Kingdom of Great Britain and Northern Ireland     258\n",
       "Canada                                                   257\n",
       "Spain                                                    257\n",
       "Colombia                                                 256\n",
       "Bangladesh                                               251\n",
       "Taiwan                                                   242\n",
       "Viet Nam                                                 212\n",
       "Argentina                                                204\n",
       "Kenya                                                    201\n",
       "Italy                                                    182\n",
       "Morocco                                                  177\n",
       "Australia                                                142\n",
       "Thailand                                                 132\n",
       "Tunisia                                                  125\n",
       "Peru                                                     121\n",
       "Iran, Islamic Republic of...                             120\n",
       "Chile                                                    115\n",
       "Poland                                                   113\n",
       "South Africa                                             109\n",
       "Philippines                                              108\n",
       "Netherlands                                              108\n",
       "Ghana                                                    107\n",
       "Israel                                                   102\n",
       "Germany                                                   99\n",
       "Ethiopia                                                  98\n",
       "United Arab Emirates                                      94\n",
       "Portugal                                                  87\n",
       "Saudi Arabia                                              84\n",
       "Ukraine                                                   79\n",
       "Sri Lanka                                                 77\n",
       "Nepal                                                     75\n",
       "Malaysia                                                  74\n",
       "Singapore                                                 68\n",
       "Cameroon                                                  68\n",
       "Algeria                                                   62\n",
       "Hong Kong (S.A.R.)                                        58\n",
       "Zimbabwe                                                  54\n",
       "Ecuador                                                   54\n",
       "Ireland                                                   53\n",
       "Belgium                                                   51\n",
       "Romania                                                   50\n",
       "Czech Republic                                            49\n",
       "I do not wish to disclose my location                     42\n",
       "Name: Q4, dtype: int64"
      ]
     },
     "execution_count": 12,
     "metadata": {},
     "output_type": "execute_result"
    }
   ],
   "source": [
    "# Here we find country of the participants.\n",
    "country = df['Q4'].value_counts()[:-1]\n",
    "country "
   ]
  },
  {
   "cell_type": "code",
   "execution_count": 13,
   "id": "eb0a7e67",
   "metadata": {},
   "outputs": [
    {
     "data": {
      "image/png": "[encoded data removed]",
      "text/plain": [
       "<Figure size 360x360 with 1 Axes>"
      ]
     },
     "metadata": {},
     "output_type": "display_data"
    }
   ],
   "source": [
    "# Plot a Pie Chart\n",
    "plt.figure(figsize=(5,5))\n",
    "explode = (0.1, 0, 0, 0, 0, 0, 0, 0, 0, 0)\n",
    "plt.pie(list(df['Q4'].value_counts()[:10]),\n",
    "        labels=list(df['Q4'].value_counts().keys()[:10]), \n",
    "        shadow=True, radius=2, autopct='%0.1f%%', explode=explode, startangle=270)\n",
    "plt.show()"
   ]
  },
  {
   "cell_type": "markdown",
   "id": "fa1d13bd",
   "metadata": {},
   "source": [
    "### The presence of Indian participation is significantly higher with 51%."
   ]
  },
  {
   "cell_type": "markdown",
   "id": "579f717e",
   "metadata": {},
   "source": [
    "## On which platforms have you begun or completed data science courses?"
   ]
  },
  {
   "cell_type": "code",
   "execution_count": 14,
   "id": "928687fd",
   "metadata": {},
   "outputs": [
    {
     "data": {
      "text/html": [
       "<div>\n",
       "<style scoped>\n",
       "    .dataframe tbody tr th:only-of-type {\n",
       "        vertical-align: middle;\n",
       "    }\n",
       "\n",
       "    .dataframe tbody tr th {\n",
       "        vertical-align: top;\n",
       "    }\n",
       "\n",
       "    .dataframe thead th {\n",
       "        text-align: right;\n",
       "    }\n",
       "</style>\n",
       "<table border=\"1\" class=\"dataframe\">\n",
       "  <thead>\n",
       "    <tr style=\"text-align: right;\">\n",
       "      <th></th>\n",
       "      <th>Q6_1</th>\n",
       "      <th>Q6_2</th>\n",
       "      <th>Q6_3</th>\n",
       "      <th>Q6_4</th>\n",
       "      <th>Q6_5</th>\n",
       "      <th>Q6_6</th>\n",
       "      <th>Q6_7</th>\n",
       "      <th>Q6_8</th>\n",
       "      <th>Q6_9</th>\n",
       "      <th>Q6_10</th>\n",
       "      <th>Q6_11</th>\n",
       "      <th>Q6_12</th>\n",
       "    </tr>\n",
       "  </thead>\n",
       "  <tbody>\n",
       "    <tr>\n",
       "      <th>0</th>\n",
       "      <td>On which platforms have you begun or completed...</td>\n",
       "      <td>On which platforms have you begun or completed...</td>\n",
       "      <td>On which platforms have you begun or completed...</td>\n",
       "      <td>On which platforms have you begun or completed...</td>\n",
       "      <td>On which platforms have you begun or completed...</td>\n",
       "      <td>On which platforms have you begun or completed...</td>\n",
       "      <td>On which platforms have you begun or completed...</td>\n",
       "      <td>On which platforms have you begun or completed...</td>\n",
       "      <td>On which platforms have you begun or completed...</td>\n",
       "      <td>On which platforms have you begun or completed...</td>\n",
       "      <td>On which platforms have you begun or completed...</td>\n",
       "      <td>On which platforms have you begun or completed...</td>\n",
       "    </tr>\n",
       "    <tr>\n",
       "      <th>1</th>\n",
       "      <td>NaN</td>\n",
       "      <td>NaN</td>\n",
       "      <td>NaN</td>\n",
       "      <td>NaN</td>\n",
       "      <td>NaN</td>\n",
       "      <td>NaN</td>\n",
       "      <td>NaN</td>\n",
       "      <td>NaN</td>\n",
       "      <td>NaN</td>\n",
       "      <td>NaN</td>\n",
       "      <td>NaN</td>\n",
       "      <td>Other</td>\n",
       "    </tr>\n",
       "    <tr>\n",
       "      <th>2</th>\n",
       "      <td>NaN</td>\n",
       "      <td>NaN</td>\n",
       "      <td>NaN</td>\n",
       "      <td>NaN</td>\n",
       "      <td>NaN</td>\n",
       "      <td>NaN</td>\n",
       "      <td>NaN</td>\n",
       "      <td>NaN</td>\n",
       "      <td>NaN</td>\n",
       "      <td>University Courses (resulting in a university ...</td>\n",
       "      <td>NaN</td>\n",
       "      <td>NaN</td>\n",
       "    </tr>\n",
       "    <tr>\n",
       "      <th>3</th>\n",
       "      <td>Coursera</td>\n",
       "      <td>edX</td>\n",
       "      <td>NaN</td>\n",
       "      <td>DataCamp</td>\n",
       "      <td>NaN</td>\n",
       "      <td>Udacity</td>\n",
       "      <td>Udemy</td>\n",
       "      <td>LinkedIn Learning</td>\n",
       "      <td>NaN</td>\n",
       "      <td>University Courses (resulting in a university ...</td>\n",
       "      <td>NaN</td>\n",
       "      <td>NaN</td>\n",
       "    </tr>\n",
       "    <tr>\n",
       "      <th>4</th>\n",
       "      <td>Coursera</td>\n",
       "      <td>NaN</td>\n",
       "      <td>Kaggle Learn Courses</td>\n",
       "      <td>NaN</td>\n",
       "      <td>NaN</td>\n",
       "      <td>NaN</td>\n",
       "      <td>Udemy</td>\n",
       "      <td>NaN</td>\n",
       "      <td>NaN</td>\n",
       "      <td>NaN</td>\n",
       "      <td>NaN</td>\n",
       "      <td>Other</td>\n",
       "    </tr>\n",
       "  </tbody>\n",
       "</table>\n",
       "</div>"
      ],
      "text/plain": [
       "                                                Q6_1  \\\n",
       "0  On which platforms have you begun or completed...   \n",
       "1                                                NaN   \n",
       "2                                                NaN   \n",
       "3                                           Coursera   \n",
       "4                                           Coursera   \n",
       "\n",
       "                                                Q6_2  \\\n",
       "0  On which platforms have you begun or completed...   \n",
       "1                                                NaN   \n",
       "2                                                NaN   \n",
       "3                                                edX   \n",
       "4                                                NaN   \n",
       "\n",
       "                                                Q6_3  \\\n",
       "0  On which platforms have you begun or completed...   \n",
       "1                                                NaN   \n",
       "2                                                NaN   \n",
       "3                                                NaN   \n",
       "4                               Kaggle Learn Courses   \n",
       "\n",
       "                                                Q6_4  \\\n",
       "0  On which platforms have you begun or completed...   \n",
       "1                                                NaN   \n",
       "2                                                NaN   \n",
       "3                                           DataCamp   \n",
       "4                                                NaN   \n",
       "\n",
       "                                                Q6_5  \\\n",
       "0  On which platforms have you begun or completed...   \n",
       "1                                                NaN   \n",
       "2                                                NaN   \n",
       "3                                                NaN   \n",
       "4                                                NaN   \n",
       "\n",
       "                                                Q6_6  \\\n",
       "0  On which platforms have you begun or completed...   \n",
       "1                                                NaN   \n",
       "2                                                NaN   \n",
       "3                                            Udacity   \n",
       "4                                                NaN   \n",
       "\n",
       "                                                Q6_7  \\\n",
       "0  On which platforms have you begun or completed...   \n",
       "1                                                NaN   \n",
       "2                                                NaN   \n",
       "3                                              Udemy   \n",
       "4                                              Udemy   \n",
       "\n",
       "                                                Q6_8  \\\n",
       "0  On which platforms have you begun or completed...   \n",
       "1                                                NaN   \n",
       "2                                                NaN   \n",
       "3                                  LinkedIn Learning   \n",
       "4                                                NaN   \n",
       "\n",
       "                                                Q6_9  \\\n",
       "0  On which platforms have you begun or completed...   \n",
       "1                                                NaN   \n",
       "2                                                NaN   \n",
       "3                                                NaN   \n",
       "4                                                NaN   \n",
       "\n",
       "                                               Q6_10  \\\n",
       "0  On which platforms have you begun or completed...   \n",
       "1                                                NaN   \n",
       "2  University Courses (resulting in a university ...   \n",
       "3  University Courses (resulting in a university ...   \n",
       "4                                                NaN   \n",
       "\n",
       "                                               Q6_11  \\\n",
       "0  On which platforms have you begun or completed...   \n",
       "1                                                NaN   \n",
       "2                                                NaN   \n",
       "3                                                NaN   \n",
       "4                                                NaN   \n",
       "\n",
       "                                               Q6_12  \n",
       "0  On which platforms have you begun or completed...  \n",
       "1                                              Other  \n",
       "2                                                NaN  \n",
       "3                                                NaN  \n",
       "4                                              Other  "
      ]
     },
     "execution_count": 14,
     "metadata": {},
     "output_type": "execute_result"
    }
   ],
   "source": [
    "# Here we extract columns from 'df' with index no 5 to 16.\n",
    "course_platform = df.iloc[ : ,5:17]\n",
    "course_platform.head()"
   ]
  },
  {
   "cell_type": "code",
   "execution_count": 15,
   "id": "bf29c879",
   "metadata": {},
   "outputs": [
    {
     "data": {
      "text/plain": [
       "Coursera    9699\n",
       "Name: Q6_1, dtype: int64"
      ]
     },
     "execution_count": 15,
     "metadata": {},
     "output_type": "execute_result"
    }
   ],
   "source": [
    "# Here we extract total count of course platforms where data science courses can be learnt.  \n",
    "cp1=course_platform['Q6_1'].value_counts()[:1]\n",
    "cp1"
   ]
  },
  {
   "cell_type": "code",
   "execution_count": 16,
   "id": "bb7edfa2",
   "metadata": {},
   "outputs": [
    {
     "data": {
      "text/plain": [
       "edX    2474\n",
       "Name: Q6_2, dtype: int64"
      ]
     },
     "execution_count": 16,
     "metadata": {},
     "output_type": "execute_result"
    }
   ],
   "source": [
    "cp2=course_platform['Q6_2'].value_counts()[:1]\n",
    "cp2"
   ]
  },
  {
   "cell_type": "code",
   "execution_count": 17,
   "id": "dd67f451",
   "metadata": {},
   "outputs": [
    {
     "data": {
      "text/plain": [
       "Kaggle Learn Courses    6628\n",
       "Name: Q6_3, dtype: int64"
      ]
     },
     "execution_count": 17,
     "metadata": {},
     "output_type": "execute_result"
    }
   ],
   "source": [
    "cp3=course_platform['Q6_3'].value_counts()[:1]\n",
    "cp3"
   ]
  },
  {
   "cell_type": "code",
   "execution_count": 18,
   "id": "c31bd778",
   "metadata": {},
   "outputs": [
    {
     "data": {
      "text/plain": [
       "DataCamp    3718\n",
       "Name: Q6_4, dtype: int64"
      ]
     },
     "execution_count": 18,
     "metadata": {},
     "output_type": "execute_result"
    }
   ],
   "source": [
    "cp4=course_platform['Q6_4'].value_counts()[:1]\n",
    "cp4"
   ]
  },
  {
   "cell_type": "code",
   "execution_count": 19,
   "id": "737461d2",
   "metadata": {},
   "outputs": [
    {
     "data": {
      "text/plain": [
       "Fast.ai    944\n",
       "Name: Q6_5, dtype: int64"
      ]
     },
     "execution_count": 19,
     "metadata": {},
     "output_type": "execute_result"
    }
   ],
   "source": [
    "cp5=course_platform['Q6_5'].value_counts()[:1]\n",
    "cp5"
   ]
  },
  {
   "cell_type": "code",
   "execution_count": 20,
   "id": "69197bd8",
   "metadata": {},
   "outputs": [
    {
     "data": {
      "text/plain": [
       "Udacity    2199\n",
       "Name: Q6_6, dtype: int64"
      ]
     },
     "execution_count": 20,
     "metadata": {},
     "output_type": "execute_result"
    }
   ],
   "source": [
    "cp6=course_platform['Q6_6'].value_counts()[:1]\n",
    "cp6"
   ]
  },
  {
   "cell_type": "code",
   "execution_count": 21,
   "id": "39f93623",
   "metadata": {},
   "outputs": [
    {
     "data": {
      "text/plain": [
       "Udemy    6116\n",
       "Name: Q6_7, dtype: int64"
      ]
     },
     "execution_count": 21,
     "metadata": {},
     "output_type": "execute_result"
    }
   ],
   "source": [
    "cp7=course_platform['Q6_7'].value_counts()[:1]\n",
    "cp7"
   ]
  },
  {
   "cell_type": "code",
   "execution_count": 22,
   "id": "badb22ed",
   "metadata": {},
   "outputs": [
    {
     "data": {
      "text/plain": [
       "LinkedIn Learning    2766\n",
       "Name: Q6_8, dtype: int64"
      ]
     },
     "execution_count": 22,
     "metadata": {},
     "output_type": "execute_result"
    }
   ],
   "source": [
    "cp8=course_platform['Q6_8'].value_counts()[:1]\n",
    "cp8"
   ]
  },
  {
   "cell_type": "code",
   "execution_count": 23,
   "id": "ff3b57fd",
   "metadata": {},
   "outputs": [
    {
     "data": {
      "text/plain": [
       "Cloud-certification programs (direct from AWS, Azure, GCP, or similar)    1821\n",
       "Name: Q6_9, dtype: int64"
      ]
     },
     "execution_count": 23,
     "metadata": {},
     "output_type": "execute_result"
    }
   ],
   "source": [
    "cp9=course_platform['Q6_9'].value_counts()[:1]\n",
    "cp9"
   ]
  },
  {
   "cell_type": "code",
   "execution_count": 24,
   "id": "9db5c7bd",
   "metadata": {},
   "outputs": [
    {
     "data": {
      "text/plain": [
       "University Courses (resulting in a university degree)    6780\n",
       "Name: Q6_10, dtype: int64"
      ]
     },
     "execution_count": 24,
     "metadata": {},
     "output_type": "execute_result"
    }
   ],
   "source": [
    "cp10=course_platform['Q6_10'].value_counts()[:1]\n",
    "cp10"
   ]
  },
  {
   "cell_type": "code",
   "execution_count": 25,
   "id": "17b904a7",
   "metadata": {},
   "outputs": [
    {
     "data": {
      "text/plain": [
       "Coursera                                                                  9699.0\n",
       "University Courses (resulting in a university degree)                     6780.0\n",
       "Kaggle Learn Courses                                                      6628.0\n",
       "Udemy                                                                     6116.0\n",
       "DataCamp                                                                  3718.0\n",
       "LinkedIn Learning                                                         2766.0\n",
       "edX                                                                       2474.0\n",
       "Udacity                                                                   2199.0\n",
       "Cloud-certification programs (direct from AWS, Azure, GCP, or similar)    1821.0\n",
       "Fast.ai                                                                    944.0\n",
       "dtype: float64"
      ]
     },
     "execution_count": 25,
     "metadata": {},
     "output_type": "execute_result"
    }
   ],
   "source": [
    "# create a new data frame with above information.Get the sum of elements of an iterable & then Sort them in desending order.\n",
    "top_course_platform = pd.DataFrame([cp1,cp2,cp3,cp4,cp5,cp6,cp7,cp8,cp9,cp10]).sum().sort_values(ascending=False)\n",
    "top_course_platform"
   ]
  },
  {
   "cell_type": "code",
   "execution_count": 26,
   "id": "eb04725e",
   "metadata": {},
   "outputs": [
    {
     "data": {
      "text/plain": [
       "['Coursera',\n",
       " 'University Courses',\n",
       " 'Kaggle Learn Courses',\n",
       " 'Udemy',\n",
       " 'DataCamp',\n",
       " 'LinkedIn Learning',\n",
       " 'edX',\n",
       " 'Udacity',\n",
       " 'Cloud-certification programs',\n",
       " 'Fast.ai']"
      ]
     },
     "execution_count": 26,
     "metadata": {},
     "output_type": "execute_result"
    }
   ],
   "source": [
    "# Create a list of Categorical values.\n",
    "x1 = ['Coursera','University Courses','Kaggle Learn Courses','Udemy','DataCamp','LinkedIn Learning','edX','Udacity','Cloud-certification programs','Fast.ai']\n",
    "x1"
   ]
  },
  {
   "cell_type": "code",
   "execution_count": 27,
   "id": "5ba2cb56",
   "metadata": {},
   "outputs": [
    {
     "data": {
      "text/plain": [
       "[9699.0, 6780.0, 6628.0, 6116.0, 3718.0, 2766.0, 2474.0, 2199.0, 1821.0, 944.0]"
      ]
     },
     "execution_count": 27,
     "metadata": {},
     "output_type": "execute_result"
    }
   ],
   "source": [
    "# Create a list of Numeriacl values.\n",
    "y1 =list(top_course_platform)\n",
    "y1"
   ]
  },
  {
   "cell_type": "code",
   "execution_count": 28,
   "id": "18104b2f",
   "metadata": {},
   "outputs": [
    {
     "data": {
      "image/png": "[encoded data removed]",
      "text/plain": [
       "<Figure size 504x360 with 1 Axes>"
      ]
     },
     "metadata": {
      "needs_background": "light"
     },
     "output_type": "display_data"
    }
   ],
   "source": [
    "# Plot a Horizontal Bar Graph.\n",
    "plt.figure(figsize=(7,5))\n",
    "plt.barh(x1,y1,color=['brown','Cyan','magenta','Orange','g','b','y','pink','skyblue','purple'])\n",
    "plt.title('Course platform v/s Count',fontweight='bold',fontsize=20)\n",
    "plt.xlabel('Count',fontweight='bold',fontsize=15)\n",
    "plt.ylabel('Course platform',fontweight='bold',fontsize=15)\n",
    "plt.show()"
   ]
  },
  {
   "cell_type": "markdown",
   "id": "9c1e440a",
   "metadata": {},
   "source": [
    "### \" Coursera \" is the top platform where total 9699 people completed their course."
   ]
  },
  {
   "cell_type": "markdown",
   "id": "f37df7e4",
   "metadata": {},
   "source": [
    "## What is the highest level of formal education that you have attained or plan to attain within the next 2 years?"
   ]
  },
  {
   "cell_type": "code",
   "execution_count": 29,
   "id": "1c6fe703",
   "metadata": {},
   "outputs": [
    {
     "data": {
      "text/plain": [
       "Master’s degree                                                      9142\n",
       "Bachelor’s degree                                                    7625\n",
       "Doctoral degree                                                      2657\n",
       "Some college/university study without earning a bachelor’s degree    1431\n",
       "I prefer not to answer                                               1394\n",
       "Professional doctorate                                                585\n",
       "No formal education past high school                                  564\n",
       "Name: Q8, dtype: int64"
      ]
     },
     "execution_count": 29,
     "metadata": {},
     "output_type": "execute_result"
    }
   ],
   "source": [
    "# Extract all the educational data with its count.\n",
    "education =df['Q8'].value_counts()[:-1]\n",
    "education"
   ]
  },
  {
   "cell_type": "code",
   "execution_count": 30,
   "id": "60043bbd",
   "metadata": {},
   "outputs": [
    {
     "data": {
      "image/png": "[encoded data removed]",
      "text/plain": [
       "<Figure size 432x432 with 1 Axes>"
      ]
     },
     "metadata": {},
     "output_type": "display_data"
    }
   ],
   "source": [
    "# PLot a Pie Chart\n",
    "plt.figure(figsize=(6,6))\n",
    "explode = (0.1, 0, 0, 0, 0, 0, 0)\n",
    "plt.pie(list(df['Q8'].value_counts()[:7]),labels=list(df['Q8'].value_counts().keys()[:7]), shadow=True, autopct ='%0.1f%%', explode=explode)\n",
    "plt.show()"
   ]
  },
  {
   "cell_type": "markdown",
   "id": "01d180b3",
   "metadata": {},
   "source": [
    "### 39% people completed their Masters Degree and 32.6% people completed Bachelor’s Degree."
   ]
  },
  {
   "cell_type": "markdown",
   "id": "9fd7842e",
   "metadata": {},
   "source": [
    "## What programming languages do you use on a regular basis?"
   ]
  },
  {
   "cell_type": "code",
   "execution_count": 31,
   "id": "31d3e743",
   "metadata": {},
   "outputs": [
    {
     "data": {
      "text/plain": [
       "Python    18653\n",
       "Name: Q12_1, dtype: int64"
      ]
     },
     "execution_count": 31,
     "metadata": {},
     "output_type": "execute_result"
    }
   ],
   "source": [
    "# Here we extract total count of Programming Languages mostly used.\n",
    "pl1 =df['Q12_1'].value_counts()[:1]\n",
    "pl1"
   ]
  },
  {
   "cell_type": "code",
   "execution_count": 32,
   "id": "621a189b",
   "metadata": {},
   "outputs": [
    {
     "data": {
      "text/plain": [
       "R    4571\n",
       "Name: Q12_2, dtype: int64"
      ]
     },
     "execution_count": 32,
     "metadata": {},
     "output_type": "execute_result"
    }
   ],
   "source": [
    "pl2 =df['Q12_2'].value_counts()[:1]\n",
    "pl2"
   ]
  },
  {
   "cell_type": "code",
   "execution_count": 33,
   "id": "f26c3155",
   "metadata": {},
   "outputs": [
    {
     "data": {
      "text/plain": [
       "SQL    9620\n",
       "Name: Q12_3, dtype: int64"
      ]
     },
     "execution_count": 33,
     "metadata": {},
     "output_type": "execute_result"
    }
   ],
   "source": [
    "pl3 =df['Q12_3'].value_counts()[:1]\n",
    "pl3"
   ]
  },
  {
   "cell_type": "code",
   "execution_count": 34,
   "id": "e864a1a5",
   "metadata": {},
   "outputs": [
    {
     "data": {
      "text/plain": [
       "C    3801\n",
       "Name: Q12_4, dtype: int64"
      ]
     },
     "execution_count": 34,
     "metadata": {},
     "output_type": "execute_result"
    }
   ],
   "source": [
    "pl4 =df['Q12_4'].value_counts()[:1]\n",
    "pl4"
   ]
  },
  {
   "cell_type": "code",
   "execution_count": 35,
   "id": "e273bd6c",
   "metadata": {},
   "outputs": [
    {
     "data": {
      "text/plain": [
       "C#    1473\n",
       "Name: Q12_5, dtype: int64"
      ]
     },
     "execution_count": 35,
     "metadata": {},
     "output_type": "execute_result"
    }
   ],
   "source": [
    "pl5 =df['Q12_5'].value_counts()[:1]\n",
    "pl5"
   ]
  },
  {
   "cell_type": "code",
   "execution_count": 36,
   "id": "08b04860",
   "metadata": {},
   "outputs": [
    {
     "data": {
      "text/plain": [
       "C++    4549\n",
       "Name: Q12_6, dtype: int64"
      ]
     },
     "execution_count": 36,
     "metadata": {},
     "output_type": "execute_result"
    }
   ],
   "source": [
    "pl6 =df['Q12_6'].value_counts()[:1]\n",
    "pl6"
   ]
  },
  {
   "cell_type": "code",
   "execution_count": 37,
   "id": "c8a77bf5",
   "metadata": {},
   "outputs": [
    {
     "data": {
      "text/plain": [
       "Java    3862\n",
       "Name: Q12_7, dtype: int64"
      ]
     },
     "execution_count": 37,
     "metadata": {},
     "output_type": "execute_result"
    }
   ],
   "source": [
    "pl7 =df['Q12_7'].value_counts()[:1]\n",
    "pl7"
   ]
  },
  {
   "cell_type": "code",
   "execution_count": 38,
   "id": "b88e9963",
   "metadata": {},
   "outputs": [
    {
     "data": {
      "text/plain": [
       "Javascript    3489\n",
       "Name: Q12_8, dtype: int64"
      ]
     },
     "execution_count": 38,
     "metadata": {},
     "output_type": "execute_result"
    }
   ],
   "source": [
    "pl8 =df['Q12_8'].value_counts()[:1]\n",
    "pl8"
   ]
  },
  {
   "cell_type": "code",
   "execution_count": 39,
   "id": "b5dcf6d1",
   "metadata": {},
   "outputs": [
    {
     "data": {
      "text/plain": [
       "Bash    1674\n",
       "Name: Q12_9, dtype: int64"
      ]
     },
     "execution_count": 39,
     "metadata": {},
     "output_type": "execute_result"
    }
   ],
   "source": [
    "pl9 =df['Q12_9'].value_counts()[:1]\n",
    "pl9"
   ]
  },
  {
   "cell_type": "code",
   "execution_count": 40,
   "id": "2239b093",
   "metadata": {},
   "outputs": [
    {
     "data": {
      "text/plain": [
       "PHP    1443\n",
       "Name: Q12_10, dtype: int64"
      ]
     },
     "execution_count": 40,
     "metadata": {},
     "output_type": "execute_result"
    }
   ],
   "source": [
    "pl10 =df['Q12_10'].value_counts()[:1]\n",
    "pl10"
   ]
  },
  {
   "cell_type": "code",
   "execution_count": 41,
   "id": "9864c1f0",
   "metadata": {},
   "outputs": [
    {
     "data": {
      "text/plain": [
       "MATLAB    2441\n",
       "Name: Q12_11, dtype: int64"
      ]
     },
     "execution_count": 41,
     "metadata": {},
     "output_type": "execute_result"
    }
   ],
   "source": [
    "pl11 =df['Q12_11'].value_counts()[:1]\n",
    "pl11"
   ]
  },
  {
   "cell_type": "code",
   "execution_count": 42,
   "id": "58788fad",
   "metadata": {},
   "outputs": [
    {
     "data": {
      "text/plain": [
       "Julia    296\n",
       "Name: Q12_12, dtype: int64"
      ]
     },
     "execution_count": 42,
     "metadata": {},
     "output_type": "execute_result"
    }
   ],
   "source": [
    "pl12 =df['Q12_12'].value_counts()[:1]\n",
    "pl12"
   ]
  },
  {
   "cell_type": "code",
   "execution_count": 43,
   "id": "4943307c",
   "metadata": {},
   "outputs": [
    {
     "data": {
      "text/plain": [
       "Julia    296\n",
       "Name: Q12_12, dtype: int64"
      ]
     },
     "execution_count": 43,
     "metadata": {},
     "output_type": "execute_result"
    }
   ],
   "source": [
    "pl12 =df['Q12_12'].value_counts()[:1]\n",
    "pl12"
   ]
  },
  {
   "cell_type": "code",
   "execution_count": 44,
   "id": "4d533afb",
   "metadata": {},
   "outputs": [
    {
     "data": {
      "text/plain": [
       "Python        18653.0\n",
       "SQL            9620.0\n",
       "R              4571.0\n",
       "C++            4549.0\n",
       "Java           3862.0\n",
       "C              3801.0\n",
       "Javascript     3489.0\n",
       "MATLAB         2441.0\n",
       "Bash           1674.0\n",
       "C#             1473.0\n",
       "PHP            1443.0\n",
       "Julia           296.0\n",
       "dtype: float64"
      ]
     },
     "execution_count": 44,
     "metadata": {},
     "output_type": "execute_result"
    }
   ],
   "source": [
    "# create a new data frame with above information.Get the sum of elements of an iterable & then Sort them in desending order.\n",
    "programing_language= pd.DataFrame([pl1,pl2,pl3,pl4,pl5,pl6,pl7,pl8,pl9,pl10,pl11,pl12]).sum()[:12].sort_values(ascending=False)\n",
    "programing_language"
   ]
  },
  {
   "cell_type": "code",
   "execution_count": 45,
   "id": "453e3889",
   "metadata": {},
   "outputs": [
    {
     "data": {
      "text/plain": [
       "['Python',\n",
       " 'SQL',\n",
       " 'R',\n",
       " 'C++',\n",
       " 'Java',\n",
       " 'C',\n",
       " 'Javascript',\n",
       " 'MATLAB',\n",
       " 'Bash',\n",
       " 'C# ',\n",
       " 'PHP',\n",
       " 'Julia']"
      ]
     },
     "execution_count": 45,
     "metadata": {},
     "output_type": "execute_result"
    }
   ],
   "source": [
    "# Create a list of Categorical values.\n",
    "x2=['Python','SQL','R','C++','Java','C','Javascript','MATLAB','Bash','C# ','PHP','Julia']\n",
    "x2"
   ]
  },
  {
   "cell_type": "code",
   "execution_count": 46,
   "id": "9979c2ff",
   "metadata": {
    "scrolled": true
   },
   "outputs": [
    {
     "data": {
      "text/plain": [
       "[18653.0,\n",
       " 9620.0,\n",
       " 4571.0,\n",
       " 4549.0,\n",
       " 3862.0,\n",
       " 3801.0,\n",
       " 3489.0,\n",
       " 2441.0,\n",
       " 1674.0,\n",
       " 1473.0,\n",
       " 1443.0,\n",
       " 296.0]"
      ]
     },
     "execution_count": 46,
     "metadata": {},
     "output_type": "execute_result"
    }
   ],
   "source": [
    "# Create a list of Numeriacl values.\n",
    "y2 = list(programing_language)\n",
    "y2[:12]"
   ]
  },
  {
   "cell_type": "code",
   "execution_count": 47,
   "id": "683ee11b",
   "metadata": {},
   "outputs": [
    {
     "data": {
      "image/png": "[encoded data removed]",
      "text/plain": [
       "<Figure size 1080x432 with 1 Axes>"
      ]
     },
     "metadata": {
      "needs_background": "light"
     },
     "output_type": "display_data"
    }
   ],
   "source": [
    "# Plot a Bar graph.\n",
    "plt.figure(figsize=(15,6))\n",
    "plt.bar(x2,y2,color=['Orange','g','b','y','pink','brown','purple','skyblue','r','black','Cyan','magenta'])\n",
    "plt.title('Programing Language v/s Count',fontweight='bold',fontsize=20)\n",
    "plt.xlabel('Programing Language',fontweight='bold',fontsize=15)\n",
    "plt.ylabel('Count',fontweight='bold',fontsize=15)\n",
    "plt.show()"
   ]
  },
  {
   "cell_type": "markdown",
   "id": "d2d8e52e",
   "metadata": {},
   "source": [
    "### Python & SQL these two programming languages are widely used."
   ]
  },
  {
   "cell_type": "markdown",
   "id": "cc13579e",
   "metadata": {},
   "source": [
    "## Which integrated development environments (IDE's) do you use on a regular basis?"
   ]
  },
  {
   "cell_type": "code",
   "execution_count": 48,
   "id": "ccc457f6",
   "metadata": {},
   "outputs": [
    {
     "data": {
      "text/plain": [
       "JupyterLab     4887\n",
       "Name: Q13_1, dtype: int64"
      ]
     },
     "execution_count": 48,
     "metadata": {},
     "output_type": "execute_result"
    }
   ],
   "source": [
    "# Here we extract total count of IDE's.\n",
    "ide1 = df['Q13_1'].value_counts()[:1]\n",
    "ide1"
   ]
  },
  {
   "cell_type": "code",
   "execution_count": 49,
   "id": "1f39c7dc",
   "metadata": {},
   "outputs": [
    {
     "data": {
      "text/plain": [
       " RStudio     3824\n",
       "Name: Q13_2, dtype: int64"
      ]
     },
     "execution_count": 49,
     "metadata": {},
     "output_type": "execute_result"
    }
   ],
   "source": [
    "ide2 = df['Q13_2'].value_counts()[:1]\n",
    "ide2"
   ]
  },
  {
   "cell_type": "code",
   "execution_count": 50,
   "id": "661c6203",
   "metadata": {},
   "outputs": [
    {
     "data": {
      "text/plain": [
       " Visual Studio     4416\n",
       "Name: Q13_3, dtype: int64"
      ]
     },
     "execution_count": 50,
     "metadata": {},
     "output_type": "execute_result"
    }
   ],
   "source": [
    "ide3 = df['Q13_3'].value_counts()[:1]\n",
    "ide3"
   ]
  },
  {
   "cell_type": "code",
   "execution_count": 51,
   "id": "4396697c",
   "metadata": {},
   "outputs": [
    {
     "data": {
      "text/plain": [
       " Visual Studio Code (VSCode)     9976\n",
       "Name: Q13_4, dtype: int64"
      ]
     },
     "execution_count": 51,
     "metadata": {},
     "output_type": "execute_result"
    }
   ],
   "source": [
    "ide4 = df['Q13_4'].value_counts()[:1]\n",
    "ide4"
   ]
  },
  {
   "cell_type": "code",
   "execution_count": 52,
   "id": "d302fdfd",
   "metadata": {},
   "outputs": [
    {
     "data": {
      "text/plain": [
       " PyCharm     6099\n",
       "Name: Q13_5, dtype: int64"
      ]
     },
     "execution_count": 52,
     "metadata": {},
     "output_type": "execute_result"
    }
   ],
   "source": [
    "ide5 = df['Q13_5'].value_counts()[:1]\n",
    "ide5"
   ]
  },
  {
   "cell_type": "code",
   "execution_count": 53,
   "id": "447a2228",
   "metadata": {},
   "outputs": [
    {
     "data": {
      "text/plain": [
       "  Spyder      2880\n",
       "Name: Q13_6, dtype: int64"
      ]
     },
     "execution_count": 53,
     "metadata": {},
     "output_type": "execute_result"
    }
   ],
   "source": [
    "ide6 = df['Q13_6'].value_counts()[:1]\n",
    "ide6"
   ]
  },
  {
   "cell_type": "code",
   "execution_count": 54,
   "id": "4c4b4b2b",
   "metadata": {},
   "outputs": [
    {
     "data": {
      "text/plain": [
       "  Notepad++      3891\n",
       "Name: Q13_7, dtype: int64"
      ]
     },
     "execution_count": 54,
     "metadata": {},
     "output_type": "execute_result"
    }
   ],
   "source": [
    "ide7 = df['Q13_7'].value_counts()[:1]\n",
    "ide7"
   ]
  },
  {
   "cell_type": "code",
   "execution_count": 55,
   "id": "d9db767c",
   "metadata": {},
   "outputs": [
    {
     "data": {
      "text/plain": [
       "  Sublime Text      2218\n",
       "Name: Q13_8, dtype: int64"
      ]
     },
     "execution_count": 55,
     "metadata": {},
     "output_type": "execute_result"
    }
   ],
   "source": [
    "ide8 = df['Q13_8'].value_counts()[:1]\n",
    "ide8"
   ]
  },
  {
   "cell_type": "code",
   "execution_count": 56,
   "id": "e014f8c8",
   "metadata": {},
   "outputs": [
    {
     "data": {
      "text/plain": [
       "  Vim / Emacs      1448\n",
       "Name: Q13_9, dtype: int64"
      ]
     },
     "execution_count": 56,
     "metadata": {},
     "output_type": "execute_result"
    }
   ],
   "source": [
    "ide9 = df['Q13_9'].value_counts()[:1]\n",
    "ide9"
   ]
  },
  {
   "cell_type": "code",
   "execution_count": 57,
   "id": "7dcb1959",
   "metadata": {},
   "outputs": [
    {
     "data": {
      "text/plain": [
       " MATLAB     2302\n",
       "Name: Q13_10, dtype: int64"
      ]
     },
     "execution_count": 57,
     "metadata": {},
     "output_type": "execute_result"
    }
   ],
   "source": [
    "ide10 = df['Q13_10'].value_counts()[:1]\n",
    "ide10"
   ]
  },
  {
   "cell_type": "code",
   "execution_count": 58,
   "id": "48593b69",
   "metadata": {},
   "outputs": [
    {
     "data": {
      "text/plain": [
       " Jupyter Notebook    13684\n",
       "Name: Q13_11, dtype: int64"
      ]
     },
     "execution_count": 58,
     "metadata": {},
     "output_type": "execute_result"
    }
   ],
   "source": [
    "ide11 = df['Q13_11'].value_counts()[:1]\n",
    "ide11"
   ]
  },
  {
   "cell_type": "code",
   "execution_count": 59,
   "id": "6b80742b",
   "metadata": {},
   "outputs": [
    {
     "data": {
      "text/plain": [
       " Jupyter Notebook                13684.0\n",
       " Visual Studio Code (VSCode)      9976.0\n",
       " PyCharm                          6099.0\n",
       "JupyterLab                        4887.0\n",
       " Visual Studio                    4416.0\n",
       "  Notepad++                       3891.0\n",
       " RStudio                          3824.0\n",
       "  Spyder                          2880.0\n",
       " MATLAB                           2302.0\n",
       "  Sublime Text                    2218.0\n",
       "dtype: float64"
      ]
     },
     "execution_count": 59,
     "metadata": {},
     "output_type": "execute_result"
    }
   ],
   "source": [
    "# create a new data frame with above information.Get the unique values with count & then Sort them in desending order.\n",
    "IDE = pd.DataFrame([ide1,ide2,ide3,ide4,ide5,ide6,ide7,\n",
    "                    ide8,ide10,ide11]).sum().sort_values(ascending=False)[:10]\n",
    "IDE"
   ]
  },
  {
   "cell_type": "code",
   "execution_count": 60,
   "id": "a322b689",
   "metadata": {},
   "outputs": [
    {
     "data": {
      "text/plain": [
       "['Jupyter Notebook',\n",
       " 'Visual Studio Code',\n",
       " 'PyCharm',\n",
       " 'JupyterLab',\n",
       " 'Visual Studio',\n",
       " 'Notepad++',\n",
       " 'RStudio',\n",
       " 'Spyder',\n",
       " 'MATLAB',\n",
       " 'Sublime Text']"
      ]
     },
     "execution_count": 60,
     "metadata": {},
     "output_type": "execute_result"
    }
   ],
   "source": [
    "# Create a list of Categorical values.\n",
    "x3 = ['Jupyter Notebook','Visual Studio Code','PyCharm','JupyterLab',\n",
    "      'Visual Studio','Notepad++','RStudio','Spyder','MATLAB','Sublime Text']\n",
    "x3"
   ]
  },
  {
   "cell_type": "code",
   "execution_count": 61,
   "id": "bd0dc455",
   "metadata": {},
   "outputs": [
    {
     "data": {
      "text/plain": [
       "[13684.0,\n",
       " 9976.0,\n",
       " 6099.0,\n",
       " 4887.0,\n",
       " 4416.0,\n",
       " 3891.0,\n",
       " 3824.0,\n",
       " 2880.0,\n",
       " 2302.0,\n",
       " 2218.0]"
      ]
     },
     "execution_count": 61,
     "metadata": {},
     "output_type": "execute_result"
    }
   ],
   "source": [
    "# Create a list of Numeriacl values.\n",
    "y3 =list(IDE)\n",
    "y3"
   ]
  },
  {
   "cell_type": "code",
   "execution_count": 62,
   "id": "30ac7b12",
   "metadata": {},
   "outputs": [
    {
     "data": {
      "image/png": "[encoded data removed]",
      "text/plain": [
       "<Figure size 1440x504 with 1 Axes>"
      ]
     },
     "metadata": {
      "needs_background": "light"
     },
     "output_type": "display_data"
    }
   ],
   "source": [
    "# Plot a Bar graph\n",
    "plt.figure(figsize=(20,7))\n",
    "plt.bar(x3, y3,color=['blue','black','Cyan','magenta','brown','purple','Orange','g','skyblue','y',])\n",
    "plt.title('IDEs v/s Count',fontweight='bold',fontsize=20)\n",
    "plt.xlabel('IDEs',fontweight='bold',fontsize=15)\n",
    "plt.ylabel('Count',fontweight='bold',fontsize=15)\n",
    "plt.show()"
   ]
  },
  {
   "cell_type": "markdown",
   "id": "1abe402c",
   "metadata": {},
   "source": [
    "### Jupyter Notebook & Visual Studio Code these 2 IDE's are widely used."
   ]
  },
  {
   "cell_type": "markdown",
   "id": "61f8c0d0",
   "metadata": {},
   "source": [
    "## Which library do you use for data visualization on a regular basis ? "
   ]
  },
  {
   "cell_type": "code",
   "execution_count": 63,
   "id": "7f936c8f",
   "metadata": {},
   "outputs": [
    {
     "data": {
      "text/plain": [
       " Matplotlib     14010\n",
       "Name: Q15_1, dtype: int64"
      ]
     },
     "execution_count": 63,
     "metadata": {},
     "output_type": "execute_result"
    }
   ],
   "source": [
    "# Here we extract total count of different Libraries used for data Visualization.\n",
    "lb1 =df['Q15_1'].value_counts()[:1]\n",
    "lb1"
   ]
  },
  {
   "cell_type": "code",
   "execution_count": 64,
   "id": "ad6c8527",
   "metadata": {},
   "outputs": [
    {
     "data": {
      "text/plain": [
       " Seaborn     10512\n",
       "Name: Q15_2, dtype: int64"
      ]
     },
     "execution_count": 64,
     "metadata": {},
     "output_type": "execute_result"
    }
   ],
   "source": [
    "lb2 =df['Q15_2'].value_counts()[:1]\n",
    "lb2"
   ]
  },
  {
   "cell_type": "code",
   "execution_count": 65,
   "id": "81277736",
   "metadata": {},
   "outputs": [
    {
     "data": {
      "text/plain": [
       " Plotly / Plotly Express     5078\n",
       "Name: Q15_3, dtype: int64"
      ]
     },
     "execution_count": 65,
     "metadata": {},
     "output_type": "execute_result"
    }
   ],
   "source": [
    "lb3 =df['Q15_3'].value_counts()[:1]\n",
    "lb3"
   ]
  },
  {
   "cell_type": "code",
   "execution_count": 66,
   "id": "116a471c",
   "metadata": {},
   "outputs": [
    {
     "data": {
      "text/plain": [
       " Ggplot / ggplot2     4145\n",
       "Name: Q15_4, dtype: int64"
      ]
     },
     "execution_count": 66,
     "metadata": {},
     "output_type": "execute_result"
    }
   ],
   "source": [
    "lb4 =df['Q15_4'].value_counts()[:1]\n",
    "lb4"
   ]
  },
  {
   "cell_type": "code",
   "execution_count": 67,
   "id": "ea198e22",
   "metadata": {},
   "outputs": [
    {
     "data": {
      "text/plain": [
       " Shiny     1043\n",
       "Name: Q15_5, dtype: int64"
      ]
     },
     "execution_count": 67,
     "metadata": {},
     "output_type": "execute_result"
    }
   ],
   "source": [
    "lb5 =df['Q15_5'].value_counts()[:1]\n",
    "lb5"
   ]
  },
  {
   "cell_type": "code",
   "execution_count": 68,
   "id": "16ae2d2e",
   "metadata": {},
   "outputs": [
    {
     "data": {
      "text/plain": [
       " D3 js     734\n",
       "Name: Q15_6, dtype: int64"
      ]
     },
     "execution_count": 68,
     "metadata": {},
     "output_type": "execute_result"
    }
   ],
   "source": [
    "lb6 =df['Q15_6'].value_counts()[:1]\n",
    "lb6"
   ]
  },
  {
   "cell_type": "code",
   "execution_count": 69,
   "id": "8e6b2f99",
   "metadata": {},
   "outputs": [
    {
     "data": {
      "text/plain": [
       " Altair     300\n",
       "Name: Q15_7, dtype: int64"
      ]
     },
     "execution_count": 69,
     "metadata": {},
     "output_type": "execute_result"
    }
   ],
   "source": [
    "lb7 =df['Q15_7'].value_counts()[:1]\n",
    "lb7"
   ]
  },
  {
   "cell_type": "code",
   "execution_count": 70,
   "id": "4b81a88f",
   "metadata": {},
   "outputs": [
    {
     "data": {
      "text/plain": [
       " Bokeh     771\n",
       "Name: Q15_8, dtype: int64"
      ]
     },
     "execution_count": 70,
     "metadata": {},
     "output_type": "execute_result"
    }
   ],
   "source": [
    "lb8 =df['Q15_8'].value_counts()[:1]\n",
    "lb8"
   ]
  },
  {
   "cell_type": "code",
   "execution_count": 71,
   "id": "d74a3b06",
   "metadata": {},
   "outputs": [
    {
     "data": {
      "text/plain": [
       " Geoplotlib     1167\n",
       "Name: Q15_9, dtype: int64"
      ]
     },
     "execution_count": 71,
     "metadata": {},
     "output_type": "execute_result"
    }
   ],
   "source": [
    "lb9 =df['Q15_9'].value_counts()[:1]\n",
    "lb9"
   ]
  },
  {
   "cell_type": "code",
   "execution_count": 72,
   "id": "8081665d",
   "metadata": {},
   "outputs": [
    {
     "data": {
      "text/plain": [
       " Leaflet / Folium     554\n",
       "Name: Q15_10, dtype: int64"
      ]
     },
     "execution_count": 72,
     "metadata": {},
     "output_type": "execute_result"
    }
   ],
   "source": [
    "lb10 =df['Q15_10'].value_counts()[:1]\n",
    "lb10"
   ]
  },
  {
   "cell_type": "code",
   "execution_count": 73,
   "id": "2121b1f3",
   "metadata": {},
   "outputs": [
    {
     "data": {
      "text/plain": [
       " Matplotlib                  14010.0\n",
       " Seaborn                     10512.0\n",
       " Plotly / Plotly Express      5078.0\n",
       " Ggplot / ggplot2             4145.0\n",
       " Geoplotlib                   1167.0\n",
       " Shiny                        1043.0\n",
       " Bokeh                         771.0\n",
       " D3 js                         734.0\n",
       " Leaflet / Folium              554.0\n",
       " Altair                        300.0\n",
       "dtype: float64"
      ]
     },
     "execution_count": 73,
     "metadata": {},
     "output_type": "execute_result"
    }
   ],
   "source": [
    "# create a new data frame with above information.Get the sum of elements of an iterable & then Sort them in desending order.\n",
    "most_used_library= pd.DataFrame([lb1,lb2,lb3,lb4,lb5,lb6,lb7,lb8,lb9,lb10]).sum().sort_values(ascending=False)\n",
    "most_used_library"
   ]
  },
  {
   "cell_type": "code",
   "execution_count": 74,
   "id": "6149d8f2",
   "metadata": {},
   "outputs": [
    {
     "data": {
      "text/plain": [
       "[14010.0, 10512.0, 5078.0, 4145.0, 1167.0, 1043.0, 771.0, 734.0, 554.0, 300.0]"
      ]
     },
     "execution_count": 74,
     "metadata": {},
     "output_type": "execute_result"
    }
   ],
   "source": [
    "# Create a list of Numeriacl values.\n",
    "x4 = list(most_used_library)\n",
    "x4"
   ]
  },
  {
   "cell_type": "code",
   "execution_count": 75,
   "id": "3250daff",
   "metadata": {},
   "outputs": [
    {
     "data": {
      "text/plain": [
       "['Matplotlib',\n",
       " 'Seaborn',\n",
       " 'Plotly / Plotly Express',\n",
       " 'Ggplot / ggplot2,',\n",
       " 'Geoplotlib',\n",
       " 'Shiny',\n",
       " 'Bokeh',\n",
       " 'D3 js',\n",
       " 'Leaflet / Folium',\n",
       " 'Altair']"
      ]
     },
     "execution_count": 75,
     "metadata": {},
     "output_type": "execute_result"
    }
   ],
   "source": [
    "# Create a list of Categorical values.\n",
    "y4 = ['Matplotlib','Seaborn','Plotly / Plotly Express','Ggplot / ggplot2,','Geoplotlib','Shiny','Bokeh','D3 js','Leaflet / Folium','Altair']\n",
    "y4"
   ]
  },
  {
   "cell_type": "code",
   "execution_count": 76,
   "id": "9359a943",
   "metadata": {},
   "outputs": [
    {
     "data": {
      "image/png": "[encoded data removed]",
      "text/plain": [
       "<Figure size 432x432 with 1 Axes>"
      ]
     },
     "metadata": {},
     "output_type": "display_data"
    }
   ],
   "source": [
    "# Plot a Donut Chart.\n",
    "plt.figure(figsize=(6,6))\n",
    "explode = (0.1, 0, 0, 0, 0, 0, 0, 0, 0, 0)\n",
    "plt.pie(x4,labels=y4, shadow=True, autopct ='%0.1f%%', explode=explode)\n",
    "circle = plt.Circle( (0,0), 0.5, color='white')\n",
    "p=plt.gcf()\n",
    "p.gca().add_artist(circle)\n",
    "plt.show()"
   ]
  },
  {
   "cell_type": "markdown",
   "id": "3046769f",
   "metadata": {},
   "source": [
    "### Matplotlib & Seaborn these two libraries are widely used for data visualization."
   ]
  },
  {
   "cell_type": "markdown",
   "id": "df623007",
   "metadata": {},
   "source": [
    "## For how many years have you used machine learning methods? "
   ]
  },
  {
   "cell_type": "code",
   "execution_count": 77,
   "id": "9e6c05b6",
   "metadata": {},
   "outputs": [
    {
     "data": {
      "text/plain": [
       "Under 1 year                             7221\n",
       "1-2 years                                3720\n",
       "I do not use machine learning methods    3419\n",
       "2-3 years                                1947\n",
       "5-10 years                               1090\n",
       "3-4 years                                1053\n",
       "4-5 years                                 950\n",
       "10-20 years                               483\n",
       "20 or more years                            3\n",
       "Name: Q16, dtype: int64"
      ]
     },
     "execution_count": 77,
     "metadata": {},
     "output_type": "execute_result"
    }
   ],
   "source": [
    "# Here we extract total count of years candidates have used machine learning methods.\n",
    "ml_experiance = df['Q16'].value_counts()[:-1]\n",
    "ml_experiance"
   ]
  },
  {
   "cell_type": "code",
   "execution_count": 78,
   "id": "6378cb0e",
   "metadata": {
    "scrolled": true
   },
   "outputs": [
    {
     "data": {
      "image/png": "[encoded data removed]",
      "text/plain": [
       "<Figure size 720x360 with 1 Axes>"
      ]
     },
     "metadata": {
      "needs_background": "light"
     },
     "output_type": "display_data"
    }
   ],
   "source": [
    "# Plot a horizontal bar graph.\n",
    "plt.figure(figsize=(10,5))\n",
    "plt.barh(list(ml_experiance.keys()),list(ml_experiance),color=['brown','purple','skyblue','r','black','orange','g','b','y'])\n",
    "plt.title('Experiance of using ML Algorithm v/s Count',fontweight='bold',fontsize=20)\n",
    "plt.xlabel('Count',fontweight='bold',fontsize=15)\n",
    "plt.ylabel('Experiance',fontweight='bold',fontsize=15)\n",
    "plt.show()"
   ]
  },
  {
   "cell_type": "markdown",
   "id": "2e5ca02a",
   "metadata": {},
   "source": [
    "### The candidates with less than 1 year experiance are more enthusiastic to use ML algorithm. "
   ]
  },
  {
   "cell_type": "markdown",
   "id": "66ce5ade",
   "metadata": {},
   "source": [
    "## Which of the following machine learning frameworks do you use on a regular basis? "
   ]
  },
  {
   "cell_type": "code",
   "execution_count": 79,
   "id": "83830477",
   "metadata": {},
   "outputs": [
    {
     "data": {
      "text/plain": [
       "  Scikit-learn     11403\n",
       "Name: Q17_1, dtype: int64"
      ]
     },
     "execution_count": 79,
     "metadata": {},
     "output_type": "execute_result"
    }
   ],
   "source": [
    "# Here we extract total count of machine learning frameworks used on a regular basis.\n",
    "fr1 = df['Q17_1'].value_counts()[:1]\n",
    "fr1"
   ]
  },
  {
   "cell_type": "code",
   "execution_count": 80,
   "id": "8b4254a7",
   "metadata": {},
   "outputs": [
    {
     "data": {
      "text/plain": [
       "  TensorFlow     7953\n",
       "Name: Q17_2, dtype: int64"
      ]
     },
     "execution_count": 80,
     "metadata": {},
     "output_type": "execute_result"
    }
   ],
   "source": [
    "fr2 = df['Q17_2'].value_counts()[:1]\n",
    "fr2"
   ]
  },
  {
   "cell_type": "code",
   "execution_count": 81,
   "id": "f2d10a6f",
   "metadata": {},
   "outputs": [
    {
     "data": {
      "text/plain": [
       " Keras     6575\n",
       "Name: Q17_3, dtype: int64"
      ]
     },
     "execution_count": 81,
     "metadata": {},
     "output_type": "execute_result"
    }
   ],
   "source": [
    "fr3 = df['Q17_3'].value_counts()[:1]\n",
    "fr3"
   ]
  },
  {
   "cell_type": "code",
   "execution_count": 82,
   "id": "f6415c99",
   "metadata": {},
   "outputs": [
    {
     "data": {
      "text/plain": [
       " PyTorch     5191\n",
       "Name: Q17_4, dtype: int64"
      ]
     },
     "execution_count": 82,
     "metadata": {},
     "output_type": "execute_result"
    }
   ],
   "source": [
    "fr4 = df['Q17_4'].value_counts()[:1]\n",
    "fr4"
   ]
  },
  {
   "cell_type": "code",
   "execution_count": 83,
   "id": "ff7ab492",
   "metadata": {},
   "outputs": [
    {
     "data": {
      "text/plain": [
       " Xgboost     4477\n",
       "Name: Q17_6, dtype: int64"
      ]
     },
     "execution_count": 83,
     "metadata": {},
     "output_type": "execute_result"
    }
   ],
   "source": [
    "fr6 = df['Q17_6'].value_counts()[:1]\n",
    "fr6"
   ]
  },
  {
   "cell_type": "code",
   "execution_count": 84,
   "id": "2960325d",
   "metadata": {},
   "outputs": [
    {
     "data": {
      "text/plain": [
       " LightGBM     1940\n",
       "Name: Q17_7, dtype: int64"
      ]
     },
     "execution_count": 84,
     "metadata": {},
     "output_type": "execute_result"
    }
   ],
   "source": [
    "fr7 = df['Q17_7'].value_counts()[:1]\n",
    "fr7"
   ]
  },
  {
   "cell_type": "code",
   "execution_count": 85,
   "id": "5544adde",
   "metadata": {},
   "outputs": [
    {
     "data": {
      "text/plain": [
       " CatBoost     1165\n",
       "Name: Q17_8, dtype: int64"
      ]
     },
     "execution_count": 85,
     "metadata": {},
     "output_type": "execute_result"
    }
   ],
   "source": [
    "fr8 = df['Q17_8'].value_counts()[:1]\n",
    "fr8"
   ]
  },
  {
   "cell_type": "code",
   "execution_count": 86,
   "id": "7d13532d",
   "metadata": {},
   "outputs": [
    {
     "data": {
      "text/plain": [
       " PyTorch Lightning     1013\n",
       "Name: Q17_12, dtype: int64"
      ]
     },
     "execution_count": 86,
     "metadata": {},
     "output_type": "execute_result"
    }
   ],
   "source": [
    "fr12 = df['Q17_12'].value_counts()[:1]\n",
    "fr12"
   ]
  },
  {
   "cell_type": "code",
   "execution_count": 87,
   "id": "3a9e8511",
   "metadata": {},
   "outputs": [
    {
     "data": {
      "text/plain": [
       " Huggingface     1332\n",
       "Name: Q17_13, dtype: int64"
      ]
     },
     "execution_count": 87,
     "metadata": {},
     "output_type": "execute_result"
    }
   ],
   "source": [
    "fr13 = df['Q17_13'].value_counts()[:1]\n",
    "fr13"
   ]
  },
  {
   "cell_type": "code",
   "execution_count": 88,
   "id": "fa0f6aa0",
   "metadata": {},
   "outputs": [
    {
     "data": {
      "text/plain": [
       "None    1709\n",
       "Name: Q17_14, dtype: int64"
      ]
     },
     "execution_count": 88,
     "metadata": {},
     "output_type": "execute_result"
    }
   ],
   "source": [
    "fr14 = df['Q17_14'].value_counts()[:1]\n",
    "fr14"
   ]
  },
  {
   "cell_type": "code",
   "execution_count": 89,
   "id": "0242a362",
   "metadata": {},
   "outputs": [
    {
     "data": {
      "text/plain": [
       "  Scikit-learn         11403.0\n",
       "  TensorFlow            7953.0\n",
       " Keras                  6575.0\n",
       " PyTorch                5191.0\n",
       " Xgboost                4477.0\n",
       " LightGBM               1940.0\n",
       "None                    1709.0\n",
       " Huggingface            1332.0\n",
       " CatBoost               1165.0\n",
       " PyTorch Lightning      1013.0\n",
       "dtype: float64"
      ]
     },
     "execution_count": 89,
     "metadata": {},
     "output_type": "execute_result"
    }
   ],
   "source": [
    "# create a new data frame with above information.Get the sum of elements of an iterable & then Sort them in desending order.\n",
    "framework= pd.DataFrame([fr1,fr2,fr3,fr4,fr6,fr7,fr8,fr12,fr13,fr14]).sum().sort_values(ascending=False)\n",
    "framework"
   ]
  },
  {
   "cell_type": "code",
   "execution_count": 90,
   "id": "236ffc09",
   "metadata": {},
   "outputs": [
    {
     "data": {
      "text/plain": [
       "[11403.0,\n",
       " 7953.0,\n",
       " 6575.0,\n",
       " 5191.0,\n",
       " 4477.0,\n",
       " 1940.0,\n",
       " 1709.0,\n",
       " 1332.0,\n",
       " 1165.0,\n",
       " 1013.0]"
      ]
     },
     "execution_count": 90,
     "metadata": {},
     "output_type": "execute_result"
    }
   ],
   "source": [
    "# Create a list of Numeriacl values.\n",
    "x5 = list(framework)\n",
    "x5"
   ]
  },
  {
   "cell_type": "code",
   "execution_count": 91,
   "id": "38e0f428",
   "metadata": {},
   "outputs": [
    {
     "data": {
      "text/plain": [
       "['Scikit-learn',\n",
       " 'TensorFlow',\n",
       " 'Keras',\n",
       " 'PyTorch',\n",
       " 'Xgboost',\n",
       " 'LightGBM',\n",
       " 'None',\n",
       " 'Huggingface',\n",
       " 'CatBoost',\n",
       " 'PyTorch Lightning']"
      ]
     },
     "execution_count": 91,
     "metadata": {},
     "output_type": "execute_result"
    }
   ],
   "source": [
    "# Create a list of Categorical values.\n",
    "y5 = ['Scikit-learn','TensorFlow','Keras','PyTorch','Xgboost','LightGBM','None','Huggingface','CatBoost','PyTorch Lightning']\n",
    "y5"
   ]
  },
  {
   "cell_type": "code",
   "execution_count": 92,
   "id": "9e75f0da",
   "metadata": {
    "scrolled": true
   },
   "outputs": [
    {
     "data": {
      "image/png": "[encoded data removed]",
      "text/plain": [
       "<Figure size 432x432 with 1 Axes>"
      ]
     },
     "metadata": {},
     "output_type": "display_data"
    }
   ],
   "source": [
    "# Plot a Pie Chart\n",
    "plt.figure(figsize=(6,6))\n",
    "explode = (0.1, 0, 0, 0, 0, 0, 0, 0, 0, 0)\n",
    "plt.pie(x5,labels=y5, shadow=True, autopct ='%0.1f%%', explode=explode)\n",
    "plt.show()"
   ]
  },
  {
   "cell_type": "markdown",
   "id": "9ba9d72a",
   "metadata": {},
   "source": [
    "### Scikit-learn is dominantly used by data scientists."
   ]
  },
  {
   "cell_type": "markdown",
   "id": "58175ad1",
   "metadata": {},
   "source": [
    "## Which of the following ML algorithms do you use on a regular basis?"
   ]
  },
  {
   "cell_type": "code",
   "execution_count": 93,
   "id": "764fff3f",
   "metadata": {},
   "outputs": [
    {
     "data": {
      "text/plain": [
       "Linear or Logistic Regression    11338\n",
       "Name: Q18_1, dtype: int64"
      ]
     },
     "execution_count": 93,
     "metadata": {},
     "output_type": "execute_result"
    }
   ],
   "source": [
    "# Here we extract total count of ML algorithms regularly used .\n",
    "algo1 = df['Q18_1'].value_counts()[:1]\n",
    "algo1"
   ]
  },
  {
   "cell_type": "code",
   "execution_count": 94,
   "id": "0758af8f",
   "metadata": {},
   "outputs": [
    {
     "data": {
      "text/plain": [
       "Decision Trees or Random Forests    9373\n",
       "Name: Q18_2, dtype: int64"
      ]
     },
     "execution_count": 94,
     "metadata": {},
     "output_type": "execute_result"
    }
   ],
   "source": [
    "algo2 = df['Q18_2'].value_counts()[:1]\n",
    "algo2"
   ]
  },
  {
   "cell_type": "code",
   "execution_count": 95,
   "id": "9ec8386d",
   "metadata": {},
   "outputs": [
    {
     "data": {
      "text/plain": [
       "Gradient Boosting Machines (xgboost, lightgbm, etc)    5506\n",
       "Name: Q18_3, dtype: int64"
      ]
     },
     "execution_count": 95,
     "metadata": {},
     "output_type": "execute_result"
    }
   ],
   "source": [
    "algo3 = df['Q18_3'].value_counts()[:1]\n",
    "algo3"
   ]
  },
  {
   "cell_type": "code",
   "execution_count": 96,
   "id": "765b5f0e",
   "metadata": {},
   "outputs": [
    {
     "data": {
      "text/plain": [
       "Bayesian Approaches    3661\n",
       "Name: Q18_4, dtype: int64"
      ]
     },
     "execution_count": 96,
     "metadata": {},
     "output_type": "execute_result"
    }
   ],
   "source": [
    "algo4 = df['Q18_4'].value_counts()[:1]\n",
    "algo4"
   ]
  },
  {
   "cell_type": "code",
   "execution_count": 97,
   "id": "6226b7e1",
   "metadata": {},
   "outputs": [
    {
     "data": {
      "text/plain": [
       "Evolutionary Approaches    823\n",
       "Name: Q18_5, dtype: int64"
      ]
     },
     "execution_count": 97,
     "metadata": {},
     "output_type": "execute_result"
    }
   ],
   "source": [
    "algo5 = df['Q18_5'].value_counts()[:1]\n",
    "algo5"
   ]
  },
  {
   "cell_type": "code",
   "execution_count": 98,
   "id": "f2c65978",
   "metadata": {},
   "outputs": [
    {
     "data": {
      "text/plain": [
       "Dense Neural Networks (MLPs, etc)    3476\n",
       "Name: Q18_6, dtype: int64"
      ]
     },
     "execution_count": 98,
     "metadata": {},
     "output_type": "execute_result"
    }
   ],
   "source": [
    "algo6 = df['Q18_6'].value_counts()[:1]\n",
    "algo6"
   ]
  },
  {
   "cell_type": "code",
   "execution_count": 99,
   "id": "dfd79ce7",
   "metadata": {},
   "outputs": [
    {
     "data": {
      "text/plain": [
       "Convolutional Neural Networks    6006\n",
       "Name: Q18_7, dtype: int64"
      ]
     },
     "execution_count": 99,
     "metadata": {},
     "output_type": "execute_result"
    }
   ],
   "source": [
    "algo7 = df['Q18_7'].value_counts()[:1]\n",
    "algo7"
   ]
  },
  {
   "cell_type": "code",
   "execution_count": 100,
   "id": "d8dca0ba",
   "metadata": {},
   "outputs": [
    {
     "data": {
      "text/plain": [
       "Generative Adversarial Networks    1166\n",
       "Name: Q18_8, dtype: int64"
      ]
     },
     "execution_count": 100,
     "metadata": {},
     "output_type": "execute_result"
    }
   ],
   "source": [
    "algo8 = df['Q18_8'].value_counts()[:1]\n",
    "algo8"
   ]
  },
  {
   "cell_type": "code",
   "execution_count": 101,
   "id": "acb4a593",
   "metadata": {},
   "outputs": [
    {
     "data": {
      "text/plain": [
       "Recurrent Neural Networks    3451\n",
       "Name: Q18_9, dtype: int64"
      ]
     },
     "execution_count": 101,
     "metadata": {},
     "output_type": "execute_result"
    }
   ],
   "source": [
    "algo9 = df['Q18_9'].value_counts()[:1]\n",
    "algo9"
   ]
  },
  {
   "cell_type": "code",
   "execution_count": 102,
   "id": "d2a105ec",
   "metadata": {},
   "outputs": [
    {
     "data": {
      "text/plain": [
       "Transformer Networks (BERT, gpt-3, etc)    2196\n",
       "Name: Q18_10, dtype: int64"
      ]
     },
     "execution_count": 102,
     "metadata": {},
     "output_type": "execute_result"
    }
   ],
   "source": [
    "algo10 = df['Q18_10'].value_counts()[:1]\n",
    "algo10"
   ]
  },
  {
   "cell_type": "code",
   "execution_count": 103,
   "id": "f0fd797d",
   "metadata": {},
   "outputs": [
    {
     "data": {
      "text/plain": [
       "Autoencoder Networks (DAE, VAE, etc)    1234\n",
       "Name: Q18_11, dtype: int64"
      ]
     },
     "execution_count": 103,
     "metadata": {},
     "output_type": "execute_result"
    }
   ],
   "source": [
    "algo11 = df['Q18_11'].value_counts()[:1]\n",
    "algo11"
   ]
  },
  {
   "cell_type": "code",
   "execution_count": 104,
   "id": "907a4de4",
   "metadata": {
    "scrolled": true
   },
   "outputs": [
    {
     "data": {
      "text/plain": [
       "Graph Neural Networks    1422\n",
       "Name: Q18_12, dtype: int64"
      ]
     },
     "execution_count": 104,
     "metadata": {},
     "output_type": "execute_result"
    }
   ],
   "source": [
    "algo12 = df['Q18_12'].value_counts()[:1]\n",
    "algo12"
   ]
  },
  {
   "cell_type": "code",
   "execution_count": 105,
   "id": "1aa9f32c",
   "metadata": {},
   "outputs": [
    {
     "data": {
      "text/plain": [
       "Linear or Logistic Regression                          11338.0\n",
       "Decision Trees or Random Forests                        9373.0\n",
       "Convolutional Neural Networks                           6006.0\n",
       "Gradient Boosting Machines (xgboost, lightgbm, etc)     5506.0\n",
       "Bayesian Approaches                                     3661.0\n",
       "Dense Neural Networks (MLPs, etc)                       3476.0\n",
       "Recurrent Neural Networks                               3451.0\n",
       "Transformer Networks (BERT, gpt-3, etc)                 2196.0\n",
       "Graph Neural Networks                                   1422.0\n",
       "Autoencoder Networks (DAE, VAE, etc)                    1234.0\n",
       "dtype: float64"
      ]
     },
     "execution_count": 105,
     "metadata": {},
     "output_type": "execute_result"
    }
   ],
   "source": [
    "# create a new data frame with above information.Get the sum of elements of an iterable & then Sort them in desending order.\n",
    "ML_algo = pd.DataFrame([algo1,algo2,algo3,algo4,algo5,algo6,algo7,algo8,algo9,algo10,algo11,algo12]).sum().sort_values(ascending=False)[:10]\n",
    "ML_algo"
   ]
  },
  {
   "cell_type": "code",
   "execution_count": 106,
   "id": "47ccdf06",
   "metadata": {},
   "outputs": [
    {
     "data": {
      "text/plain": [
       "[11338.0,\n",
       " 9373.0,\n",
       " 6006.0,\n",
       " 5506.0,\n",
       " 3661.0,\n",
       " 3476.0,\n",
       " 3451.0,\n",
       " 2196.0,\n",
       " 1422.0,\n",
       " 1234.0]"
      ]
     },
     "execution_count": 106,
     "metadata": {},
     "output_type": "execute_result"
    }
   ],
   "source": [
    "# Create a list of Numeriacl values.\n",
    "x =list(ML_algo)\n",
    "x"
   ]
  },
  {
   "cell_type": "code",
   "execution_count": 107,
   "id": "0e33540d",
   "metadata": {},
   "outputs": [
    {
     "data": {
      "text/plain": [
       "['Linear or Logistic Regression',\n",
       " 'Decision Trees or Random Forests',\n",
       " 'Convolutional Neural Networks',\n",
       " 'Gradient Boosting Machines',\n",
       " 'Bayesian Approaches',\n",
       " 'Dense Neural Networks',\n",
       " 'Recurrent Neural Networks',\n",
       " 'Transformer Networks',\n",
       " 'Graph Neural Networks',\n",
       " 'Autoencoder Networks']"
      ]
     },
     "execution_count": 107,
     "metadata": {},
     "output_type": "execute_result"
    }
   ],
   "source": [
    "# Create a list of Categorical values.\n",
    "y = ['Linear or Logistic Regression','Decision Trees or Random Forests','Convolutional Neural Networks','Gradient Boosting Machines',\n",
    "     'Bayesian Approaches','Dense Neural Networks','Recurrent Neural Networks','Transformer Networks',\n",
    "     'Graph Neural Networks','Autoencoder Networks']\n",
    "y"
   ]
  },
  {
   "cell_type": "code",
   "execution_count": 108,
   "id": "f6901e85",
   "metadata": {},
   "outputs": [
    {
     "data": {
      "image/png": "[encoded data removed]",
      "text/plain": [
       "<Figure size 576x576 with 1 Axes>"
      ]
     },
     "metadata": {},
     "output_type": "display_data"
    }
   ],
   "source": [
    "# Plot a Donut Chart.\n",
    "plt.figure(figsize=(8,8))\n",
    "explode = (0.1, 0, 0, 0, 0, 0, 0, 0, 0, 0)\n",
    "plt.pie(x,labels=y, shadow=True, autopct ='%0.1f%%', explode=explode)\n",
    "circle = plt.Circle( (0,0), 0.5, color='white')\n",
    "p=plt.gcf()\n",
    "p.gca().add_artist(circle)\n",
    "plt.show()"
   ]
  },
  {
   "cell_type": "markdown",
   "id": "e32ed671",
   "metadata": {},
   "source": [
    "### Linear or Logistic Regression is widely used with almost 24% votes."
   ]
  },
  {
   "cell_type": "markdown",
   "id": "3ec4240e",
   "metadata": {},
   "source": [
    "## Which of the following ML model hubs/repositories do you use most often?"
   ]
  },
  {
   "cell_type": "code",
   "execution_count": 109,
   "id": "2d2b68af",
   "metadata": {},
   "outputs": [
    {
     "data": {
      "text/plain": [
       " Kaggle datasets                              1618\n",
       "  TensorFlow Hub                               799\n",
       " Huggingface Models                            502\n",
       " PyTorch Hub                                   412\n",
       " Timm                                          127\n",
       "Other storage services (i.e. google drive)      96\n",
       " NVIDIA NGC models                              69\n",
       " ONNX models                                    46\n",
       " Jumpstart                                      24\n",
       "Name: Q22, dtype: int64"
      ]
     },
     "execution_count": 109,
     "metadata": {},
     "output_type": "execute_result"
    }
   ],
   "source": [
    "# Here we extract total count of ML model hubs/repositories most oftenly used.\n",
    "ml_hub = df['Q22'].value_counts()[:-1]\n",
    "ml_hub"
   ]
  },
  {
   "cell_type": "code",
   "execution_count": 110,
   "id": "c4945e3d",
   "metadata": {},
   "outputs": [
    {
     "data": {
      "text/plain": [
       "Index([' Kaggle datasets ', '  TensorFlow Hub ', ' Huggingface Models ',\n",
       "       ' PyTorch Hub ', ' Timm ', 'Other storage services (i.e. google drive)',\n",
       "       ' NVIDIA NGC models  ', ' ONNX models ', ' Jumpstart '],\n",
       "      dtype='object')"
      ]
     },
     "execution_count": 110,
     "metadata": {},
     "output_type": "execute_result"
    }
   ],
   "source": [
    "# Create a list of Categorical values.\n",
    "x6 = ml_hub.keys()\n",
    "x6"
   ]
  },
  {
   "cell_type": "code",
   "execution_count": 111,
   "id": "51426cb6",
   "metadata": {},
   "outputs": [
    {
     "data": {
      "text/plain": [
       "[1618, 799, 502, 412, 127, 96, 69, 46, 24]"
      ]
     },
     "execution_count": 111,
     "metadata": {},
     "output_type": "execute_result"
    }
   ],
   "source": [
    "# Create a list of Numerical values.\n",
    "y6 = list(ml_hub)\n",
    "y6"
   ]
  },
  {
   "cell_type": "code",
   "execution_count": 112,
   "id": "f15f8955",
   "metadata": {},
   "outputs": [
    {
     "data": {
      "image/png": "[encoded data removed]",
      "text/plain": [
       "<Figure size 504x360 with 1 Axes>"
      ]
     },
     "metadata": {
      "needs_background": "light"
     },
     "output_type": "display_data"
    }
   ],
   "source": [
    "# Plot a horizontal Bar graph\n",
    "plt.figure(figsize=(7,5))\n",
    "plt.barh(x6,y6,color=['pink','brown','b','y','purple','skyblue','Cyan','magenta','Orange','g'])\n",
    "plt.title('ML model hubs/repositories v/s Count',fontweight='bold',fontsize=20)\n",
    "plt.xlabel('Count',fontweight='bold',fontsize=15)\n",
    "plt.ylabel('ML model hubs/repositories',fontweight='bold',fontsize=15)\n",
    "plt.show()"
   ]
  },
  {
   "cell_type": "markdown",
   "id": "6c7bf4ae",
   "metadata": {},
   "source": [
    "### Mostly  Kaggle datasets are used for ML model hubs or repositories."
   ]
  },
  {
   "cell_type": "markdown",
   "id": "fe69ee81",
   "metadata": {},
   "source": [
    "## Select the title most similar to your current role?"
   ]
  },
  {
   "cell_type": "code",
   "execution_count": 113,
   "id": "5296b51e",
   "metadata": {},
   "outputs": [
    {
     "data": {
      "text/plain": [
       "Data Scientist                                                      1929\n",
       "Data Analyst (Business, Marketing, Financial, Quantitative, etc)    1538\n",
       "Currently not employed                                              1432\n",
       "Software Engineer                                                    980\n",
       "Teacher / professor                                                  833\n",
       "Manager (Program, Project, Operations, Executive-level, etc)         832\n",
       "Other                                                                754\n",
       "Research Scientist                                                   593\n",
       "Machine Learning/ MLops Engineer                                     571\n",
       "Engineer (non-software)                                              465\n",
       "Data Engineer                                                        352\n",
       "Statistician                                                         125\n",
       "Data Architect                                                        95\n",
       "Data Administrator                                                    70\n",
       "Developer Advocate                                                    61\n",
       "Name: Q23, dtype: int64"
      ]
     },
     "execution_count": 113,
     "metadata": {},
     "output_type": "execute_result"
    }
   ],
   "source": [
    "# Here we extract total count of the title most similar to current role.\n",
    "df['Q23'].value_counts()[:-1]"
   ]
  },
  {
   "cell_type": "code",
   "execution_count": 114,
   "id": "5df5464a",
   "metadata": {},
   "outputs": [
    {
     "data": {
      "text/plain": [
       "[1929, 1538, 1432, 980, 833, 832, 754, 593, 571, 465]"
      ]
     },
     "execution_count": 114,
     "metadata": {},
     "output_type": "execute_result"
    }
   ],
   "source": [
    "# Create a list of Numerical values.\n",
    "x7 = list(df['Q23'].value_counts())[:10]\n",
    "x7"
   ]
  },
  {
   "cell_type": "code",
   "execution_count": 115,
   "id": "8ba44129",
   "metadata": {},
   "outputs": [
    {
     "data": {
      "text/plain": [
       "['Data Scientist',\n",
       " 'Data Analyst (Business, Marketing, Financial, Quantitative, etc)',\n",
       " 'Currently not employed',\n",
       " 'Software Engineer',\n",
       " 'Teacher / professor',\n",
       " 'Manager (Program, Project, Operations, Executive-level, etc)',\n",
       " 'Other',\n",
       " 'Research Scientist',\n",
       " 'Machine Learning/ MLops Engineer',\n",
       " 'Engineer (non-software)']"
      ]
     },
     "execution_count": 115,
     "metadata": {},
     "output_type": "execute_result"
    }
   ],
   "source": [
    "# Create a list of Categorical values.\n",
    "y7 = list(df['Q23'].value_counts().keys())[:10]\n",
    "y7"
   ]
  },
  {
   "cell_type": "code",
   "execution_count": 116,
   "id": "64275971",
   "metadata": {},
   "outputs": [
    {
     "data": {
      "image/png": "[encoded data removed]",
      "text/plain": [
       "<Figure size 360x360 with 1 Axes>"
      ]
     },
     "metadata": {},
     "output_type": "display_data"
    }
   ],
   "source": [
    "# Plot a Pie Chart\n",
    "plt.figure(figsize=(5,5))\n",
    "explode = (0.15, 0, 0, 0, 0, 0, 0, 0, 0, 0)\n",
    "plt.pie(x7,labels=y7, shadow=True, autopct ='%0.1f%%', explode=explode)\n",
    "plt.show()"
   ]
  },
  {
   "cell_type": "markdown",
   "id": "05d93392",
   "metadata": {},
   "source": [
    "### ' Data Scientist ' is the title most similar to current role for almost 20% people."
   ]
  },
  {
   "cell_type": "markdown",
   "id": "8e4e99be",
   "metadata": {},
   "source": [
    "## In what industry you are currently working?"
   ]
  },
  {
   "cell_type": "code",
   "execution_count": 117,
   "id": "34db394f",
   "metadata": {},
   "outputs": [
    {
     "data": {
      "text/plain": [
       "Computers/Technology                      2321\n",
       "Academics/Education                       1447\n",
       "Accounting/Finance                         802\n",
       "Other                                      750\n",
       "Manufacturing/Fabrication                  561\n",
       "Medical/Pharmaceutical                     509\n",
       "Government/Public Service                  500\n",
       "Online Service/Internet-based Services     461\n",
       "Retail/Sales                               398\n",
       "Energy/Mining                              320\n",
       "Insurance/Risk Assessment                  256\n",
       "Marketing/CRM                              246\n",
       "Non-profit/Service                         194\n",
       "Broadcasting/Communications                179\n",
       "Shipping/Transportation                    150\n",
       "Name: Q24, dtype: int64"
      ]
     },
     "execution_count": 117,
     "metadata": {},
     "output_type": "execute_result"
    }
   ],
   "source": [
    "# Here we extract total count of industry in which people are currently working.\n",
    "df['Q24'].value_counts()[:15]"
   ]
  },
  {
   "cell_type": "code",
   "execution_count": 118,
   "id": "4af79353",
   "metadata": {},
   "outputs": [
    {
     "data": {
      "text/plain": [
       "[2321, 1447, 802, 750, 561, 509, 500, 461, 398, 320, 256, 246, 194, 179, 150]"
      ]
     },
     "execution_count": 118,
     "metadata": {},
     "output_type": "execute_result"
    }
   ],
   "source": [
    "# Create a list of Numerical values.\n",
    "y8 = list(df['Q24'].value_counts())[:15]\n",
    "y8"
   ]
  },
  {
   "cell_type": "code",
   "execution_count": 119,
   "id": "ac685b34",
   "metadata": {},
   "outputs": [
    {
     "data": {
      "text/plain": [
       "['Computers/Technology',\n",
       " 'Academics/Education',\n",
       " 'Accounting/Finance',\n",
       " 'Other',\n",
       " 'Manufacturing/Fabrication',\n",
       " 'Medical/Pharmaceutical',\n",
       " 'Government/Public Service',\n",
       " 'Online Service/Internet-based Services',\n",
       " 'Retail/Sales',\n",
       " 'Energy/Mining',\n",
       " 'Insurance/Risk Assessment',\n",
       " 'Marketing/CRM',\n",
       " 'Non-profit/Service',\n",
       " 'Broadcasting/Communications',\n",
       " 'Shipping/Transportation']"
      ]
     },
     "execution_count": 119,
     "metadata": {},
     "output_type": "execute_result"
    }
   ],
   "source": [
    "# Create a list of Categorical values.\n",
    "x8 = list(df['Q24'].value_counts().keys())[:15]\n",
    "x8"
   ]
  },
  {
   "cell_type": "code",
   "execution_count": 120,
   "id": "7f918cda",
   "metadata": {
    "scrolled": true
   },
   "outputs": [
    {
     "data": {
      "image/png": "[encoded data removed]",
      "text/plain": [
       "<Figure size 864x288 with 1 Axes>"
      ]
     },
     "metadata": {
      "needs_background": "light"
     },
     "output_type": "display_data"
    }
   ],
   "source": [
    "# Plot a horizontal  Bar graph\n",
    "plt.figure(figsize=(12,4))\n",
    "plt.barh(x8, y8,color=['blue','black','Cyan','magenta','brown','purple','Orange','g','skyblue','y',])\n",
    "plt.xticks(rotation=30, horizontalalignment=\"center\")\n",
    "plt.title('Industry v/s Count',fontweight='bold',fontsize=20)\n",
    "plt.xlabel('Count',fontweight='bold',fontsize=15)\n",
    "plt.ylabel('Industry',fontweight='bold',fontsize=15)\n",
    "plt.show()\n"
   ]
  },
  {
   "cell_type": "markdown",
   "id": "db283b3f",
   "metadata": {},
   "source": [
    "### The people who are working in 'computers / Technology ' are mostly enthusiastic to work as Data Scientist."
   ]
  },
  {
   "cell_type": "markdown",
   "id": "cc39f576",
   "metadata": {},
   "source": [
    "## Which of the following cloud computing platforms do you use?"
   ]
  },
  {
   "cell_type": "code",
   "execution_count": 121,
   "id": "2fb2678e",
   "metadata": {},
   "outputs": [
    {
     "data": {
      "text/plain": [
       " Amazon Web Services (AWS)     2346\n",
       "Name: Q31_1, dtype: int64"
      ]
     },
     "execution_count": 121,
     "metadata": {},
     "output_type": "execute_result"
    }
   ],
   "source": [
    "# Here we extract total count of cloud computing platforms used.\n",
    "cc1 = df['Q31_1'].value_counts()[:1]\n",
    "cc1"
   ]
  },
  {
   "cell_type": "code",
   "execution_count": 122,
   "id": "d1b93927",
   "metadata": {},
   "outputs": [
    {
     "data": {
      "text/plain": [
       " Microsoft Azure     1416\n",
       "Name: Q31_2, dtype: int64"
      ]
     },
     "execution_count": 122,
     "metadata": {},
     "output_type": "execute_result"
    }
   ],
   "source": [
    "cc2 = df['Q31_2'].value_counts()[:1]\n",
    "cc2"
   ]
  },
  {
   "cell_type": "code",
   "execution_count": 123,
   "id": "81112327",
   "metadata": {},
   "outputs": [
    {
     "data": {
      "text/plain": [
       " Google Cloud Platform (GCP)     2056\n",
       "Name: Q31_3, dtype: int64"
      ]
     },
     "execution_count": 123,
     "metadata": {},
     "output_type": "execute_result"
    }
   ],
   "source": [
    "cc3 = df['Q31_3'].value_counts()[:1]\n",
    "cc3"
   ]
  },
  {
   "cell_type": "code",
   "execution_count": 124,
   "id": "1cfb69a6",
   "metadata": {},
   "outputs": [
    {
     "data": {
      "text/plain": [
       " IBM Cloud / Red Hat     287\n",
       "Name: Q31_4, dtype: int64"
      ]
     },
     "execution_count": 124,
     "metadata": {},
     "output_type": "execute_result"
    }
   ],
   "source": [
    "cc4 = df['Q31_4'].value_counts()[:1]\n",
    "cc4"
   ]
  },
  {
   "cell_type": "code",
   "execution_count": 125,
   "id": "ef757353",
   "metadata": {},
   "outputs": [
    {
     "data": {
      "text/plain": [
       " Oracle Cloud     230\n",
       "Name: Q31_5, dtype: int64"
      ]
     },
     "execution_count": 125,
     "metadata": {},
     "output_type": "execute_result"
    }
   ],
   "source": [
    "cc5 = df['Q31_5'].value_counts()[:1]\n",
    "cc5"
   ]
  },
  {
   "cell_type": "code",
   "execution_count": 126,
   "id": "1794a124",
   "metadata": {},
   "outputs": [
    {
     "data": {
      "text/plain": [
       " SAP Cloud     107\n",
       "Name: Q31_6, dtype: int64"
      ]
     },
     "execution_count": 126,
     "metadata": {},
     "output_type": "execute_result"
    }
   ],
   "source": [
    "cc6 = df['Q31_6'].value_counts()[:1]\n",
    "cc6"
   ]
  },
  {
   "cell_type": "code",
   "execution_count": 127,
   "id": "7ef0fb3f",
   "metadata": {},
   "outputs": [
    {
     "data": {
      "text/plain": [
       " VMware Cloud     155\n",
       "Name: Q31_7, dtype: int64"
      ]
     },
     "execution_count": 127,
     "metadata": {},
     "output_type": "execute_result"
    }
   ],
   "source": [
    "cc7 = df['Q31_7'].value_counts()[:1]\n",
    "cc7"
   ]
  },
  {
   "cell_type": "code",
   "execution_count": 128,
   "id": "4f1d739c",
   "metadata": {},
   "outputs": [
    {
     "data": {
      "text/plain": [
       " Alibaba Cloud     76\n",
       "Name: Q31_8, dtype: int64"
      ]
     },
     "execution_count": 128,
     "metadata": {},
     "output_type": "execute_result"
    }
   ],
   "source": [
    "cc8 = df['Q31_8'].value_counts()[:1]\n",
    "cc8"
   ]
  },
  {
   "cell_type": "code",
   "execution_count": 129,
   "id": "a691314b",
   "metadata": {},
   "outputs": [
    {
     "data": {
      "text/plain": [
       " Tencent Cloud     56\n",
       "Name: Q31_9, dtype: int64"
      ]
     },
     "execution_count": 129,
     "metadata": {},
     "output_type": "execute_result"
    }
   ],
   "source": [
    "cc9 = df['Q31_9'].value_counts()[:1]\n",
    "cc9"
   ]
  },
  {
   "cell_type": "code",
   "execution_count": 130,
   "id": "917f1309",
   "metadata": {},
   "outputs": [
    {
     "data": {
      "text/plain": [
       " Huawei Cloud     47\n",
       "Name: Q31_10, dtype: int64"
      ]
     },
     "execution_count": 130,
     "metadata": {},
     "output_type": "execute_result"
    }
   ],
   "source": [
    "cc10 = df['Q31_10'].value_counts()[:1]\n",
    "cc10"
   ]
  },
  {
   "cell_type": "code",
   "execution_count": 131,
   "id": "d2706baf",
   "metadata": {},
   "outputs": [
    {
     "data": {
      "text/plain": [
       " Amazon Web Services (AWS)       2346.0\n",
       " Google Cloud Platform (GCP)     2056.0\n",
       " Microsoft Azure                 1416.0\n",
       " IBM Cloud / Red Hat              287.0\n",
       " Oracle Cloud                     230.0\n",
       " VMware Cloud                     155.0\n",
       " SAP Cloud                        107.0\n",
       " Alibaba Cloud                     76.0\n",
       " Tencent Cloud                     56.0\n",
       " Huawei Cloud                      47.0\n",
       "dtype: float64"
      ]
     },
     "execution_count": 131,
     "metadata": {},
     "output_type": "execute_result"
    }
   ],
   "source": [
    "# create a new data frame with above information.Get the sum of elements of an iterable & then Sort them in desending order.\n",
    "cloud_computing_platform = pd.DataFrame([cc1,cc2,cc3,cc4,cc5,cc6,cc7,cc8,cc9,cc10]).sum().sort_values(ascending=False)\n",
    "cloud_computing_platform"
   ]
  },
  {
   "cell_type": "code",
   "execution_count": 132,
   "id": "5b457e11",
   "metadata": {},
   "outputs": [
    {
     "data": {
      "text/plain": [
       "[2346.0, 2056.0, 1416.0, 287.0, 230.0, 155.0, 107.0, 76.0, 56.0, 47.0]"
      ]
     },
     "execution_count": 132,
     "metadata": {},
     "output_type": "execute_result"
    }
   ],
   "source": [
    "# Create a list of Numerical values.\n",
    "x8 = list(cloud_computing_platform)\n",
    "x8"
   ]
  },
  {
   "cell_type": "code",
   "execution_count": 133,
   "id": "1c7f504d",
   "metadata": {},
   "outputs": [
    {
     "data": {
      "text/plain": [
       "[' Amazon Web Services (AWS) ',\n",
       " ' Google Cloud Platform (GCP) ',\n",
       " ' Microsoft Azure ',\n",
       " ' IBM Cloud / Red Hat ',\n",
       " ' Oracle Cloud ',\n",
       " ' VMware Cloud ',\n",
       " ' SAP Cloud ',\n",
       " ' Alibaba Cloud ',\n",
       " ' Tencent Cloud ',\n",
       " ' Huawei Cloud ']"
      ]
     },
     "execution_count": 133,
     "metadata": {},
     "output_type": "execute_result"
    }
   ],
   "source": [
    "# Create a list of Categorical values.\n",
    "y8 = [' Amazon Web Services (AWS) ',' Google Cloud Platform (GCP) ', ' Microsoft Azure ',\n",
    "        ' IBM Cloud / Red Hat ',' Oracle Cloud ',' VMware Cloud ',' SAP Cloud ', ' Alibaba Cloud ',\n",
    "      ' Tencent Cloud ', ' Huawei Cloud ']\n",
    "y8"
   ]
  },
  {
   "cell_type": "code",
   "execution_count": 134,
   "id": "91ea465d",
   "metadata": {},
   "outputs": [
    {
     "data": {
      "image/png": "[encoded data removed]",
      "text/plain": [
       "<Figure size 504x504 with 1 Axes>"
      ]
     },
     "metadata": {},
     "output_type": "display_data"
    }
   ],
   "source": [
    "# Plot a Pie Chart\n",
    "plt.figure(figsize=(7,7))\n",
    "explode = (0.1, 0, 0, 0, 0, 0, 0, 0, 0, 0)\n",
    "plt.pie(x8,labels=y8, shadow=True, autopct ='%0.1f%%', explode=explode)\n",
    "circle = plt.Circle( (0,0), 0.5, color='white')\n",
    "p=plt.gcf()\n",
    "p.gca().add_artist(circle)\n",
    "plt.show()"
   ]
  },
  {
   "cell_type": "markdown",
   "id": "e790113f",
   "metadata": {},
   "source": [
    "### ' AWS ' & ' GCP' these cloud computing platforms are significantly used"
   ]
  },
  {
   "cell_type": "markdown",
   "id": "575587c8",
   "metadata": {},
   "source": [
    "## Do you use any of the following data products (relational databases, data warehouses, data lakes, or similar)?"
   ]
  },
  {
   "cell_type": "code",
   "execution_count": 135,
   "id": "6de339d3",
   "metadata": {},
   "outputs": [
    {
     "data": {
      "text/plain": [
       "MySQL     2233\n",
       "Name: Q35_1, dtype: int64"
      ]
     },
     "execution_count": 135,
     "metadata": {},
     "output_type": "execute_result"
    }
   ],
   "source": [
    "# Here we extract total count of data products like relational databases.\n",
    "db1 = df['Q35_1'].value_counts()[:1]\n",
    "db1"
   ]
  },
  {
   "cell_type": "code",
   "execution_count": 136,
   "id": "916892a8",
   "metadata": {},
   "outputs": [
    {
     "data": {
      "text/plain": [
       "PostgreSQL     1516\n",
       "Name: Q35_2, dtype: int64"
      ]
     },
     "execution_count": 136,
     "metadata": {},
     "output_type": "execute_result"
    }
   ],
   "source": [
    "db2 = df['Q35_2'].value_counts()[:1]\n",
    "db2"
   ]
  },
  {
   "cell_type": "code",
   "execution_count": 137,
   "id": "38f31db6",
   "metadata": {},
   "outputs": [
    {
     "data": {
      "text/plain": [
       "SQLite     1159\n",
       "Name: Q35_3, dtype: int64"
      ]
     },
     "execution_count": 137,
     "metadata": {},
     "output_type": "execute_result"
    }
   ],
   "source": [
    "db3 = df['Q35_3'].value_counts()[:1]\n",
    "db3"
   ]
  },
  {
   "cell_type": "code",
   "execution_count": 138,
   "id": "e292c759",
   "metadata": {},
   "outputs": [
    {
     "data": {
      "text/plain": [
       "Oracle Database     688\n",
       "Name: Q35_4, dtype: int64"
      ]
     },
     "execution_count": 138,
     "metadata": {},
     "output_type": "execute_result"
    }
   ],
   "source": [
    "db4 = df['Q35_4'].value_counts()[:1]\n",
    "db4"
   ]
  },
  {
   "cell_type": "code",
   "execution_count": 139,
   "id": "3413bef7",
   "metadata": {},
   "outputs": [
    {
     "data": {
      "text/plain": [
       "MongoDB     1031\n",
       "Name: Q35_5, dtype: int64"
      ]
     },
     "execution_count": 139,
     "metadata": {},
     "output_type": "execute_result"
    }
   ],
   "source": [
    "db5 = df['Q35_5'].value_counts()[:1]\n",
    "db5"
   ]
  },
  {
   "cell_type": "code",
   "execution_count": 140,
   "id": "72689b7f",
   "metadata": {},
   "outputs": [
    {
     "data": {
      "text/plain": [
       "Snowflake     399\n",
       "Name: Q35_6, dtype: int64"
      ]
     },
     "execution_count": 140,
     "metadata": {},
     "output_type": "execute_result"
    }
   ],
   "source": [
    "db6 = df['Q35_6'].value_counts()[:1]\n",
    "db6"
   ]
  },
  {
   "cell_type": "code",
   "execution_count": 141,
   "id": "b728ff7b",
   "metadata": {},
   "outputs": [
    {
     "data": {
      "text/plain": [
       "IBM Db2     192\n",
       "Name: Q35_7, dtype: int64"
      ]
     },
     "execution_count": 141,
     "metadata": {},
     "output_type": "execute_result"
    }
   ],
   "source": [
    "db7 = df['Q35_7'].value_counts()[:1]\n",
    "db7"
   ]
  },
  {
   "cell_type": "code",
   "execution_count": 142,
   "id": "1da365e7",
   "metadata": {},
   "outputs": [
    {
     "data": {
      "text/plain": [
       "Microsoft SQL Server     1203\n",
       "Name: Q35_8, dtype: int64"
      ]
     },
     "execution_count": 142,
     "metadata": {},
     "output_type": "execute_result"
    }
   ],
   "source": [
    "db8 = df['Q35_8'].value_counts()[:1]\n",
    "db8"
   ]
  },
  {
   "cell_type": "code",
   "execution_count": 143,
   "id": "088fe044",
   "metadata": {},
   "outputs": [
    {
     "data": {
      "text/plain": [
       "Microsoft Azure SQL Database     520\n",
       "Name: Q35_9, dtype: int64"
      ]
     },
     "execution_count": 143,
     "metadata": {},
     "output_type": "execute_result"
    }
   ],
   "source": [
    "db9 = df['Q35_9'].value_counts()[:1]\n",
    "db9"
   ]
  },
  {
   "cell_type": "code",
   "execution_count": 144,
   "id": "2604b191",
   "metadata": {},
   "outputs": [
    {
     "data": {
      "text/plain": [
       "Amazon Redshift     380\n",
       "Name: Q35_10, dtype: int64"
      ]
     },
     "execution_count": 144,
     "metadata": {},
     "output_type": "execute_result"
    }
   ],
   "source": [
    "db10 = df['Q35_10'].value_counts()[:1]\n",
    "db10"
   ]
  },
  {
   "cell_type": "code",
   "execution_count": 145,
   "id": "eb4a2127",
   "metadata": {},
   "outputs": [
    {
     "data": {
      "text/plain": [
       "Amazon RDS     505\n",
       "Name: Q35_11, dtype: int64"
      ]
     },
     "execution_count": 145,
     "metadata": {},
     "output_type": "execute_result"
    }
   ],
   "source": [
    "db11 = df['Q35_11'].value_counts()[:1]\n",
    "db11"
   ]
  },
  {
   "cell_type": "code",
   "execution_count": 146,
   "id": "982c242d",
   "metadata": {},
   "outputs": [
    {
     "data": {
      "text/plain": [
       "Amazon DynamoDB     356\n",
       "Name: Q35_12, dtype: int64"
      ]
     },
     "execution_count": 146,
     "metadata": {},
     "output_type": "execute_result"
    }
   ],
   "source": [
    "db12 = df['Q35_12'].value_counts()[:1]\n",
    "db12"
   ]
  },
  {
   "cell_type": "code",
   "execution_count": 147,
   "id": "909209cc",
   "metadata": {},
   "outputs": [
    {
     "data": {
      "text/plain": [
       "Google Cloud BigQuery     690\n",
       "Name: Q35_13, dtype: int64"
      ]
     },
     "execution_count": 147,
     "metadata": {},
     "output_type": "execute_result"
    }
   ],
   "source": [
    "db13 = df['Q35_13'].value_counts()[:1]\n",
    "db13"
   ]
  },
  {
   "cell_type": "code",
   "execution_count": 148,
   "id": "2c3fd352",
   "metadata": {},
   "outputs": [
    {
     "data": {
      "text/plain": [
       "Google Cloud SQL     439\n",
       "Name: Q35_14, dtype: int64"
      ]
     },
     "execution_count": 148,
     "metadata": {},
     "output_type": "execute_result"
    }
   ],
   "source": [
    "db14 = df['Q35_14'].value_counts()[:1]\n",
    "db14"
   ]
  },
  {
   "cell_type": "code",
   "execution_count": 149,
   "id": "c9a9c9f6",
   "metadata": {},
   "outputs": [
    {
     "data": {
      "text/plain": [
       "MySQL                            2233.0\n",
       "PostgreSQL                       1516.0\n",
       "Microsoft SQL Server             1203.0\n",
       "SQLite                           1159.0\n",
       "MongoDB                          1031.0\n",
       "Google Cloud BigQuery             690.0\n",
       "Oracle Database                   688.0\n",
       "Microsoft Azure SQL Database      520.0\n",
       "Amazon RDS                        505.0\n",
       "Google Cloud SQL                  439.0\n",
       "dtype: float64"
      ]
     },
     "execution_count": 149,
     "metadata": {},
     "output_type": "execute_result"
    }
   ],
   "source": [
    "# create a new data frame with above information.Get the unique values with count & then Sort them in desending order.\n",
    "data_base = pd.DataFrame([db1,db2,db3,db4,db5,db6,db7,db8,db9,db10,db11,db12,db13,db14]).sum().sort_values(ascending=False)[:10]\n",
    "data_base"
   ]
  },
  {
   "cell_type": "code",
   "execution_count": 150,
   "id": "59180bf1",
   "metadata": {},
   "outputs": [
    {
     "data": {
      "text/plain": [
       "['MySQL ',\n",
       " 'PostgreSQL ',\n",
       " 'Microsoft SQL Server ',\n",
       " 'SQLite ',\n",
       " 'MongoDB ',\n",
       " 'Google Cloud BigQuery ',\n",
       " 'Oracle Database ',\n",
       " 'Microsoft Azure SQL Database ',\n",
       " 'Amazon RDS ',\n",
       " 'Google Cloud SQL ']"
      ]
     },
     "execution_count": 150,
     "metadata": {},
     "output_type": "execute_result"
    }
   ],
   "source": [
    "# Create a list of Categorical values.\n",
    "x9 = ['MySQL ','PostgreSQL ','Microsoft SQL Server ','SQLite ','MongoDB ','Google Cloud BigQuery ',\n",
    "      'Oracle Database ','Microsoft Azure SQL Database ','Amazon RDS ','Google Cloud SQL ']\n",
    "x9"
   ]
  },
  {
   "cell_type": "code",
   "execution_count": 151,
   "id": "858fee02",
   "metadata": {},
   "outputs": [
    {
     "data": {
      "text/plain": [
       "[2233.0, 1516.0, 1203.0, 1159.0, 1031.0, 690.0, 688.0, 520.0, 505.0, 439.0]"
      ]
     },
     "execution_count": 151,
     "metadata": {},
     "output_type": "execute_result"
    }
   ],
   "source": [
    "# Create a list of Numerical values.\n",
    "y9 = list(data_base)\n",
    "y9"
   ]
  },
  {
   "cell_type": "code",
   "execution_count": 152,
   "id": "ca0d08c0",
   "metadata": {},
   "outputs": [
    {
     "data": {
      "image/png": "[encoded data removed]",
      "text/plain": [
       "<Figure size 864x432 with 1 Axes>"
      ]
     },
     "metadata": {
      "needs_background": "light"
     },
     "output_type": "display_data"
    }
   ],
   "source": [
    "# Plot a Bar graph\n",
    "plt.figure(figsize=(12,6))\n",
    "plt.bar(x9, y9,color=['blue','black','Cyan','magenta','brown','purple','Orange','g','skyblue','y',])\n",
    "plt.xticks(rotation=30, horizontalalignment=\"center\")\n",
    "plt.title('Database v/s Count',fontweight='bold',fontsize=20)\n",
    "plt.xlabel('Database',fontweight='bold',fontsize=15)\n",
    "plt.ylabel('Count',fontweight='bold',fontsize=15)\n",
    "plt.show()"
   ]
  },
  {
   "cell_type": "markdown",
   "id": "20839a0f",
   "metadata": {},
   "source": [
    "### ' MySQL ' is dominantly used as Database."
   ]
  },
  {
   "cell_type": "markdown",
   "id": "6e7bcc03",
   "metadata": {},
   "source": [
    "## Do you use any of the following business intelligence tools?"
   ]
  },
  {
   "cell_type": "code",
   "execution_count": 153,
   "id": "b785c0b8",
   "metadata": {},
   "outputs": [
    {
     "data": {
      "text/plain": [
       "Amazon QuickSight    224\n",
       "Name: Q36_1, dtype: int64"
      ]
     },
     "execution_count": 153,
     "metadata": {},
     "output_type": "execute_result"
    }
   ],
   "source": [
    "# Here we extract total count of BI tools.\n",
    "BI_Tool1 = df['Q36_1'].value_counts()[:1]\n",
    "BI_Tool1"
   ]
  },
  {
   "cell_type": "code",
   "execution_count": 154,
   "id": "9a33a59a",
   "metadata": {},
   "outputs": [
    {
     "data": {
      "text/plain": [
       "Microsoft Power BI    1658\n",
       "Name: Q36_2, dtype: int64"
      ]
     },
     "execution_count": 154,
     "metadata": {},
     "output_type": "execute_result"
    }
   ],
   "source": [
    "BI_Tool2 = df['Q36_2'].value_counts()[:1]\n",
    "BI_Tool2"
   ]
  },
  {
   "cell_type": "code",
   "execution_count": 155,
   "id": "a9bfb2a5",
   "metadata": {},
   "outputs": [
    {
     "data": {
      "text/plain": [
       "Google Data Studio    643\n",
       "Name: Q36_3, dtype: int64"
      ]
     },
     "execution_count": 155,
     "metadata": {},
     "output_type": "execute_result"
    }
   ],
   "source": [
    "BI_Tool3 = df['Q36_3'].value_counts()[:1]\n",
    "BI_Tool3"
   ]
  },
  {
   "cell_type": "code",
   "execution_count": 156,
   "id": "1812c3d0",
   "metadata": {},
   "outputs": [
    {
     "data": {
      "text/plain": [
       "Looker    166\n",
       "Name: Q36_4, dtype: int64"
      ]
     },
     "execution_count": 156,
     "metadata": {},
     "output_type": "execute_result"
    }
   ],
   "source": [
    "BI_Tool4 = df['Q36_4'].value_counts()[:1]\n",
    "BI_Tool4"
   ]
  },
  {
   "cell_type": "code",
   "execution_count": 157,
   "id": "9961357e",
   "metadata": {},
   "outputs": [
    {
     "data": {
      "text/plain": [
       "Tableau    1732\n",
       "Name: Q36_5, dtype: int64"
      ]
     },
     "execution_count": 157,
     "metadata": {},
     "output_type": "execute_result"
    }
   ],
   "source": [
    "BI_Tool5 = df['Q36_5'].value_counts()[:1]\n",
    "BI_Tool5"
   ]
  },
  {
   "cell_type": "code",
   "execution_count": 158,
   "id": "4b4d56b6",
   "metadata": {},
   "outputs": [
    {
     "data": {
      "text/plain": [
       "Qlik Sense    207\n",
       "Name: Q36_6, dtype: int64"
      ]
     },
     "execution_count": 158,
     "metadata": {},
     "output_type": "execute_result"
    }
   ],
   "source": [
    "BI_Tool6 = df['Q36_6'].value_counts()[:1]\n",
    "BI_Tool6"
   ]
  },
  {
   "cell_type": "code",
   "execution_count": 159,
   "id": "1c415d0b",
   "metadata": {},
   "outputs": [
    {
     "data": {
      "text/plain": [
       "Domo    44\n",
       "Name: Q36_7, dtype: int64"
      ]
     },
     "execution_count": 159,
     "metadata": {},
     "output_type": "execute_result"
    }
   ],
   "source": [
    "BI_Tool7 = df['Q36_7'].value_counts()[:1]\n",
    "BI_Tool7                                      "
   ]
  },
  {
   "cell_type": "code",
   "execution_count": 160,
   "id": "64d81903",
   "metadata": {},
   "outputs": [
    {
     "data": {
      "text/plain": [
       "TIBCO Spotfire    86\n",
       "Name: Q36_8, dtype: int64"
      ]
     },
     "execution_count": 160,
     "metadata": {},
     "output_type": "execute_result"
    }
   ],
   "source": [
    "BI_Tool8 = df['Q36_8'].value_counts()[:1]\n",
    "BI_Tool8"
   ]
  },
  {
   "cell_type": "code",
   "execution_count": 161,
   "id": "d4462e7f",
   "metadata": {},
   "outputs": [
    {
     "data": {
      "text/plain": [
       "Alteryx     132\n",
       "Name: Q36_9, dtype: int64"
      ]
     },
     "execution_count": 161,
     "metadata": {},
     "output_type": "execute_result"
    }
   ],
   "source": [
    "BI_Tool9 = df['Q36_9'].value_counts()[:1]\n",
    "BI_Tool9"
   ]
  },
  {
   "cell_type": "code",
   "execution_count": 162,
   "id": "c986dada",
   "metadata": {},
   "outputs": [
    {
     "data": {
      "text/plain": [
       "Sisense     38\n",
       "Name: Q36_10, dtype: int64"
      ]
     },
     "execution_count": 162,
     "metadata": {},
     "output_type": "execute_result"
    }
   ],
   "source": [
    "BI_Tool10 = df['Q36_10'].value_counts()[:1]\n",
    "BI_Tool10"
   ]
  },
  {
   "cell_type": "code",
   "execution_count": 163,
   "id": "8e08841f",
   "metadata": {},
   "outputs": [
    {
     "data": {
      "text/plain": [
       "SAP Analytics Cloud     106\n",
       "Name: Q36_11, dtype: int64"
      ]
     },
     "execution_count": 163,
     "metadata": {},
     "output_type": "execute_result"
    }
   ],
   "source": [
    "BI_Tool11 = df['Q36_11'].value_counts()[:1]\n",
    "BI_Tool11"
   ]
  },
  {
   "cell_type": "code",
   "execution_count": 164,
   "id": "bfedf375",
   "metadata": {},
   "outputs": [
    {
     "data": {
      "text/plain": [
       "Microsoft Azure Synapse     167\n",
       "Name: Q36_12, dtype: int64"
      ]
     },
     "execution_count": 164,
     "metadata": {},
     "output_type": "execute_result"
    }
   ],
   "source": [
    "BI_Tool12 = df['Q36_12'].value_counts()[:1]\n",
    "BI_Tool12"
   ]
  },
  {
   "cell_type": "code",
   "execution_count": 165,
   "id": "1da94e60",
   "metadata": {},
   "outputs": [
    {
     "data": {
      "text/plain": [
       "Thoughtspot     22\n",
       "Name: Q36_13, dtype: int64"
      ]
     },
     "execution_count": 165,
     "metadata": {},
     "output_type": "execute_result"
    }
   ],
   "source": [
    "BI_Tool13 = df['Q36_13'].value_counts()[:1]\n",
    "BI_Tool13"
   ]
  },
  {
   "cell_type": "code",
   "execution_count": 166,
   "id": "8512fa16",
   "metadata": {},
   "outputs": [
    {
     "data": {
      "text/plain": [
       "Tableau               1732.0\n",
       "Microsoft Power BI    1658.0\n",
       "Google Data Studio     643.0\n",
       "Amazon QuickSight      224.0\n",
       "Qlik Sense             207.0\n",
       "dtype: float64"
      ]
     },
     "execution_count": 166,
     "metadata": {},
     "output_type": "execute_result"
    }
   ],
   "source": [
    "# create a new data frame with above information.Get the sum of elements of an iterable & then Sort them in desending order.\n",
    "BI_Tool = pd.DataFrame([BI_Tool1,BI_Tool2,BI_Tool3,BI_Tool4,BI_Tool5,BI_Tool6,BI_Tool7,BI_Tool8,\n",
    "                       BI_Tool9,BI_Tool10,BI_Tool11,BI_Tool12,BI_Tool13]).sum().sort_values(ascending=False)[:5]\n",
    "BI_Tool"
   ]
  },
  {
   "cell_type": "code",
   "execution_count": 167,
   "id": "a829e961",
   "metadata": {},
   "outputs": [
    {
     "data": {
      "text/plain": [
       "[1732.0, 1658.0, 643.0, 224.0, 207.0]"
      ]
     },
     "execution_count": 167,
     "metadata": {},
     "output_type": "execute_result"
    }
   ],
   "source": [
    "# Create a list of Numerical values.\n",
    "x10 = list(BI_Tool)\n",
    "x10"
   ]
  },
  {
   "cell_type": "code",
   "execution_count": 168,
   "id": "2e82ee67",
   "metadata": {},
   "outputs": [
    {
     "data": {
      "text/plain": [
       "['Tableau',\n",
       " 'Microsoft Power BI',\n",
       " 'Google Data Studio',\n",
       " 'Amazon QuickSight',\n",
       " 'Qlik Sense']"
      ]
     },
     "execution_count": 168,
     "metadata": {},
     "output_type": "execute_result"
    }
   ],
   "source": [
    "# Create a list of Categorical values.\n",
    "y10= ['Tableau','Microsoft Power BI','Google Data Studio','Amazon QuickSight','Qlik Sense']\n",
    "y10"
   ]
  },
  {
   "cell_type": "code",
   "execution_count": 169,
   "id": "b3da4c9e",
   "metadata": {},
   "outputs": [
    {
     "data": {
      "image/png": "[encoded data removed]",
      "text/plain": [
       "<Figure size 576x576 with 1 Axes>"
      ]
     },
     "metadata": {},
     "output_type": "display_data"
    }
   ],
   "source": [
    "# Plot a Pie Chart\n",
    "plt.figure(figsize=(8,8))\n",
    "plt.pie(x10,labels=y10, shadow=True, autopct ='%0.1f%%')\n",
    "plt.show()"
   ]
  },
  {
   "cell_type": "markdown",
   "id": "8d0fb202",
   "metadata": {},
   "source": [
    "### Tableau &  Microsoft Power BI these two visualization tools captured almost 76% market ."
   ]
  },
  {
   "cell_type": "markdown",
   "id": "1ffc20d9",
   "metadata": {},
   "source": [
    "## Do you use any of the following types of specialized hardware when training machine learning models?  "
   ]
  },
  {
   "cell_type": "code",
   "execution_count": 170,
   "id": "291f7c27",
   "metadata": {},
   "outputs": [
    {
     "data": {
      "text/plain": [
       " GPUs     2682\n",
       "Name: Q42_1, dtype: int64"
      ]
     },
     "execution_count": 170,
     "metadata": {},
     "output_type": "execute_result"
    }
   ],
   "source": [
    "# Here we extract total count of hardware uesd while training machine learning models.\n",
    "h1 = df['Q42_1'].value_counts()[:1]\n",
    "h1"
   ]
  },
  {
   "cell_type": "code",
   "execution_count": 171,
   "id": "c0858a23",
   "metadata": {},
   "outputs": [
    {
     "data": {
      "text/plain": [
       " TPUs     653\n",
       "Name: Q42_2, dtype: int64"
      ]
     },
     "execution_count": 171,
     "metadata": {},
     "output_type": "execute_result"
    }
   ],
   "source": [
    "h2 = df['Q42_2'].value_counts()[:1]\n",
    "h2"
   ]
  },
  {
   "cell_type": "code",
   "execution_count": 172,
   "id": "65fd3fd2",
   "metadata": {},
   "outputs": [
    {
     "data": {
      "text/plain": [
       " IPUs     67\n",
       "Name: Q42_3, dtype: int64"
      ]
     },
     "execution_count": 172,
     "metadata": {},
     "output_type": "execute_result"
    }
   ],
   "source": [
    "h3 = df['Q42_3'].value_counts()[:1]\n",
    "h3"
   ]
  },
  {
   "cell_type": "code",
   "execution_count": 173,
   "id": "291147b1",
   "metadata": {},
   "outputs": [
    {
     "data": {
      "text/plain": [
       " RDUs     58\n",
       "Name: Q42_4, dtype: int64"
      ]
     },
     "execution_count": 173,
     "metadata": {},
     "output_type": "execute_result"
    }
   ],
   "source": [
    "h4 = df['Q42_4'].value_counts()[:1]\n",
    "h4"
   ]
  },
  {
   "cell_type": "code",
   "execution_count": 174,
   "id": "0c6d8cce",
   "metadata": {},
   "outputs": [
    {
     "data": {
      "text/plain": [
       " WSEs     26\n",
       "Name: Q42_5, dtype: int64"
      ]
     },
     "execution_count": 174,
     "metadata": {},
     "output_type": "execute_result"
    }
   ],
   "source": [
    "h5 = df['Q42_5'].value_counts()[:1]\n",
    "h5"
   ]
  },
  {
   "cell_type": "code",
   "execution_count": 175,
   "id": "ea08fd24",
   "metadata": {},
   "outputs": [
    {
     "data": {
      "text/plain": [
       " Trainium Chips     39\n",
       "Name: Q42_6, dtype: int64"
      ]
     },
     "execution_count": 175,
     "metadata": {},
     "output_type": "execute_result"
    }
   ],
   "source": [
    "h6 = df['Q42_6'].value_counts()[:1]\n",
    "h6"
   ]
  },
  {
   "cell_type": "code",
   "execution_count": 176,
   "id": "268f1c5e",
   "metadata": {},
   "outputs": [
    {
     "data": {
      "text/plain": [
       " Inferentia Chips     58\n",
       "Name: Q42_7, dtype: int64"
      ]
     },
     "execution_count": 176,
     "metadata": {},
     "output_type": "execute_result"
    }
   ],
   "source": [
    "h7 = df['Q42_7'].value_counts()[:1]\n",
    "h7"
   ]
  },
  {
   "cell_type": "code",
   "execution_count": 177,
   "id": "482d51a2",
   "metadata": {},
   "outputs": [
    {
     "data": {
      "text/plain": [
       "None    1772\n",
       "Name: Q42_8, dtype: int64"
      ]
     },
     "execution_count": 177,
     "metadata": {},
     "output_type": "execute_result"
    }
   ],
   "source": [
    "h8 = df['Q42_8'].value_counts()[:1]\n",
    "h8"
   ]
  },
  {
   "cell_type": "code",
   "execution_count": 178,
   "id": "3c4618af",
   "metadata": {},
   "outputs": [
    {
     "data": {
      "text/plain": [
       " GPUs                 2682.0\n",
       "None                  1772.0\n",
       " TPUs                  653.0\n",
       " IPUs                   67.0\n",
       " RDUs                   58.0\n",
       " Inferentia Chips       58.0\n",
       " Trainium Chips         39.0\n",
       " WSEs                   26.0\n",
       "dtype: float64"
      ]
     },
     "execution_count": 178,
     "metadata": {},
     "output_type": "execute_result"
    }
   ],
   "source": [
    "# create a new data frame with above information.Get the sum of elements of an iterable & then Sort them in desending order.\n",
    "hardware = pd.DataFrame([h1,h2,h3,h4,h5,h6,h7,h8]).sum().sort_values(ascending=False)\n",
    "hardware "
   ]
  },
  {
   "cell_type": "code",
   "execution_count": 179,
   "id": "c4af0edf",
   "metadata": {},
   "outputs": [
    {
     "data": {
      "text/plain": [
       "[2682.0, 1772.0, 653.0, 67.0, 58.0, 58.0, 39.0, 26.0]"
      ]
     },
     "execution_count": 179,
     "metadata": {},
     "output_type": "execute_result"
    }
   ],
   "source": [
    "# Create a list of Numerical values.\n",
    "y11 = list(hardware)\n",
    "y11"
   ]
  },
  {
   "cell_type": "code",
   "execution_count": 180,
   "id": "7e3cb514",
   "metadata": {},
   "outputs": [
    {
     "data": {
      "text/plain": [
       "['GPUs',\n",
       " 'None',\n",
       " 'TPUs',\n",
       " 'IPUs',\n",
       " 'RDUs',\n",
       " 'Inferentia Chips',\n",
       " 'Trainium Chips',\n",
       " 'WSEs']"
      ]
     },
     "execution_count": 180,
     "metadata": {},
     "output_type": "execute_result"
    }
   ],
   "source": [
    "# Create a list of Categorical values.\n",
    "x11 = ['GPUs','None','TPUs','IPUs','RDUs','Inferentia Chips','Trainium Chips','WSEs']\n",
    "x11"
   ]
  },
  {
   "cell_type": "code",
   "execution_count": 181,
   "id": "aabc6cde",
   "metadata": {},
   "outputs": [
    {
     "data": {
      "image/png": "[encoded data removed]",
      "text/plain": [
       "<Figure size 1080x432 with 1 Axes>"
      ]
     },
     "metadata": {
      "needs_background": "light"
     },
     "output_type": "display_data"
    }
   ],
   "source": [
    "# Plot a bar graph\n",
    "plt.figure(figsize=(15,6))\n",
    "plt.bar(x11,y11,color=['g','b','y','brown','purple','skyblue','r','Cyan'])\n",
    "plt.title('Hardware v/s Count',fontweight='bold',fontsize=20)\n",
    "plt.xlabel('Hardware',fontweight='bold',fontsize=15)\n",
    "plt.ylabel('Count',fontweight='bold',fontsize=15)\n",
    "plt.show()"
   ]
  },
  {
   "cell_type": "markdown",
   "id": "00ede594",
   "metadata": {},
   "source": [
    "### \" GPUs \"  play an important role while training machine learning models."
   ]
  },
  {
   "cell_type": "markdown",
   "id": "1bcc50ca",
   "metadata": {},
   "source": [
    "## what are your favorite media sources that report on data science topics?"
   ]
  },
  {
   "cell_type": "code",
   "execution_count": 182,
   "id": "39849dca",
   "metadata": {},
   "outputs": [
    {
     "data": {
      "text/plain": [
       "Twitter (data science influencers)    3995\n",
       "Name: Q44_1, dtype: int64"
      ]
     },
     "execution_count": 182,
     "metadata": {},
     "output_type": "execute_result"
    }
   ],
   "source": [
    "# Here we extract total count of media sources that report on data science topics.\n",
    "m1 = df['Q44_1'].value_counts()[:1]\n",
    "m1"
   ]
  },
  {
   "cell_type": "code",
   "execution_count": 183,
   "id": "edc81aab",
   "metadata": {},
   "outputs": [
    {
     "data": {
      "text/plain": [
       "Email newsletters (Data Elixir, O'Reilly Data & AI, etc)    3787\n",
       "Name: Q44_2, dtype: int64"
      ]
     },
     "execution_count": 183,
     "metadata": {},
     "output_type": "execute_result"
    }
   ],
   "source": [
    "m2 = df['Q44_2'].value_counts()[:1]\n",
    "m2"
   ]
  },
  {
   "cell_type": "code",
   "execution_count": 184,
   "id": "924756ff",
   "metadata": {},
   "outputs": [
    {
     "data": {
      "text/plain": [
       "Reddit (r/machinelearning, etc)    2678\n",
       "Name: Q44_3, dtype: int64"
      ]
     },
     "execution_count": 184,
     "metadata": {},
     "output_type": "execute_result"
    }
   ],
   "source": [
    "m3 = df['Q44_3'].value_counts()[:1]\n",
    "m3"
   ]
  },
  {
   "cell_type": "code",
   "execution_count": 185,
   "id": "565c3f96",
   "metadata": {},
   "outputs": [
    {
     "data": {
      "text/plain": [
       "Kaggle (notebooks, forums, etc)    11181\n",
       "Name: Q44_4, dtype: int64"
      ]
     },
     "execution_count": 185,
     "metadata": {},
     "output_type": "execute_result"
    }
   ],
   "source": [
    "m4 = df['Q44_4'].value_counts()[:1]\n",
    "m4"
   ]
  },
  {
   "cell_type": "code",
   "execution_count": 186,
   "id": "7a79af73",
   "metadata": {},
   "outputs": [
    {
     "data": {
      "text/plain": [
       "Course Forums (forums.fast.ai, Coursera forums, etc)    4006\n",
       "Name: Q44_5, dtype: int64"
      ]
     },
     "execution_count": 186,
     "metadata": {},
     "output_type": "execute_result"
    }
   ],
   "source": [
    "m5 = df['Q44_5'].value_counts()[:1]\n",
    "m5"
   ]
  },
  {
   "cell_type": "code",
   "execution_count": 187,
   "id": "11ffefdb",
   "metadata": {},
   "outputs": [
    {
     "data": {
      "text/plain": [
       "YouTube (Kaggle YouTube, Cloud AI Adventures, etc)    11957\n",
       "Name: Q44_6, dtype: int64"
      ]
     },
     "execution_count": 187,
     "metadata": {},
     "output_type": "execute_result"
    }
   ],
   "source": [
    "m6 = df['Q44_6'].value_counts()[:1]\n",
    "m6"
   ]
  },
  {
   "cell_type": "code",
   "execution_count": 188,
   "id": "7da6728e",
   "metadata": {},
   "outputs": [
    {
     "data": {
      "text/plain": [
       "Podcasts (Chai Time Data Science, O’Reilly Data Show, etc)    2120\n",
       "Name: Q44_7, dtype: int64"
      ]
     },
     "execution_count": 188,
     "metadata": {},
     "output_type": "execute_result"
    }
   ],
   "source": [
    "m7 = df['Q44_7'].value_counts()[:1]\n",
    "m7"
   ]
  },
  {
   "cell_type": "code",
   "execution_count": 189,
   "id": "183e9b32",
   "metadata": {},
   "outputs": [
    {
     "data": {
      "text/plain": [
       "Blogs (Towards Data Science, Analytics Vidhya, etc)    7766\n",
       "Name: Q44_8, dtype: int64"
      ]
     },
     "execution_count": 189,
     "metadata": {},
     "output_type": "execute_result"
    }
   ],
   "source": [
    "m8 = df['Q44_8'].value_counts()[:1]\n",
    "m8"
   ]
  },
  {
   "cell_type": "code",
   "execution_count": 190,
   "id": "95005d02",
   "metadata": {},
   "outputs": [
    {
     "data": {
      "text/plain": [
       "Journal Publications (peer-reviewed journals, conference proceedings, etc)    3804\n",
       "Name: Q44_9, dtype: int64"
      ]
     },
     "execution_count": 190,
     "metadata": {},
     "output_type": "execute_result"
    }
   ],
   "source": [
    "m9 = df['Q44_9'].value_counts()[:1]\n",
    "m9"
   ]
  },
  {
   "cell_type": "code",
   "execution_count": 191,
   "id": "b77ee264",
   "metadata": {},
   "outputs": [
    {
     "data": {
      "text/plain": [
       "Slack Communities (ods.ai, kagglenoobs, etc)    1726\n",
       "Name: Q44_10, dtype: int64"
      ]
     },
     "execution_count": 191,
     "metadata": {},
     "output_type": "execute_result"
    }
   ],
   "source": [
    "m10 = df['Q44_10'].value_counts()[:1]\n",
    "m10"
   ]
  },
  {
   "cell_type": "code",
   "execution_count": 192,
   "id": "66c28e59",
   "metadata": {},
   "outputs": [
    {
     "data": {
      "text/plain": [
       "YouTube (Kaggle YouTube, Cloud AI Adventures, etc)                            11957.0\n",
       "Kaggle (notebooks, forums, etc)                                               11181.0\n",
       "Blogs (Towards Data Science, Analytics Vidhya, etc)                            7766.0\n",
       "Course Forums (forums.fast.ai, Coursera forums, etc)                           4006.0\n",
       "Twitter (data science influencers)                                             3995.0\n",
       "Journal Publications (peer-reviewed journals, conference proceedings, etc)     3804.0\n",
       "Email newsletters (Data Elixir, O'Reilly Data & AI, etc)                       3787.0\n",
       "Reddit (r/machinelearning, etc)                                                2678.0\n",
       "Podcasts (Chai Time Data Science, O’Reilly Data Show, etc)                     2120.0\n",
       "Slack Communities (ods.ai, kagglenoobs, etc)                                   1726.0\n",
       "dtype: float64"
      ]
     },
     "execution_count": 192,
     "metadata": {},
     "output_type": "execute_result"
    }
   ],
   "source": [
    "# create a new data frame with above information.Get the sum of elements of an iterable & then Sort them in desending order.\n",
    "media = pd.DataFrame([m1,m2,m3,m4,m5,m6,m7,m8,m9,m10,]).sum().sort_values(ascending = False)\n",
    "media"
   ]
  },
  {
   "cell_type": "code",
   "execution_count": 193,
   "id": "251dd0cf",
   "metadata": {},
   "outputs": [
    {
     "data": {
      "text/plain": [
       "[11957.0,\n",
       " 11181.0,\n",
       " 7766.0,\n",
       " 4006.0,\n",
       " 3995.0,\n",
       " 3804.0,\n",
       " 3787.0,\n",
       " 2678.0,\n",
       " 2120.0,\n",
       " 1726.0]"
      ]
     },
     "execution_count": 193,
     "metadata": {},
     "output_type": "execute_result"
    }
   ],
   "source": [
    "# Create a list of Numerical values.\n",
    "x12 = list(media)\n",
    "x12"
   ]
  },
  {
   "cell_type": "code",
   "execution_count": 194,
   "id": "33d5bc40",
   "metadata": {},
   "outputs": [
    {
     "data": {
      "text/plain": [
       "['YouTube ',\n",
       " 'Kaggle',\n",
       " 'Blogs ',\n",
       " 'Course Forums',\n",
       " 'Twitter ',\n",
       " 'Journal Publications',\n",
       " 'Email newsletters',\n",
       " 'Reddit ',\n",
       " 'Podcasts',\n",
       " 'Slack Communities']"
      ]
     },
     "execution_count": 194,
     "metadata": {},
     "output_type": "execute_result"
    }
   ],
   "source": [
    "# Create a list of Categorical values.\n",
    "y12 = ['YouTube ','Kaggle', 'Blogs ','Course Forums','Twitter ','Journal Publications','Email newsletters','Reddit ',\n",
    "       'Podcasts','Slack Communities']\n",
    "y12"
   ]
  },
  {
   "cell_type": "code",
   "execution_count": 196,
   "id": "834a7fac",
   "metadata": {},
   "outputs": [
    {
     "data": {
      "image/png": "[encoded data removed]",
      "text/plain": [
       "<Figure size 504x504 with 1 Axes>"
      ]
     },
     "metadata": {},
     "output_type": "display_data"
    }
   ],
   "source": [
    "# Plot a  Donut Chart\n",
    "plt.figure(figsize=(7,7))\n",
    "explode = (0.1, 0.1, 0, 0, 0, 0, 0, 0, 0, 0)\n",
    "plt.pie(x12,labels=y12, shadow=True, autopct ='%0.1f%%', explode=explode)\n",
    "circle = plt.Circle( (0,0), 0.5, color='white')\n",
    "p=plt.gcf()\n",
    "p.gca().add_artist(circle)\n",
    "plt.show()"
   ]
  },
  {
   "cell_type": "markdown",
   "id": "7d1ca595",
   "metadata": {},
   "source": [
    "### Youtube & Kaggle these two media sourses helped data scientists to grow and learn. "
   ]
  },
  {
   "cell_type": "markdown",
   "id": "68fe0c96",
   "metadata": {},
   "source": [
    "## Conclusion :\n",
    "\n",
    "Maximum youngsters having age of 18-29 years and are participated in this survey. With 51.4 % votes india domonatly participated in the survey.Platformes like 'Coursers & Kaggle' palyed a vital role for learning Data Science course.39% people completed their Masters Degree and 32.6% people completed Bachelor’s Degree.To explore in the field of Data Science 'Python & SQL' these two programming languages are widely used.Matplotlib & Seaborn these two libraries are mostly used for data visualization.Linear Regression, Logistic Regression, Decision Trees, Random Forests these ML algorithms are regularly used by data scientists.\n",
    "          Data base plays an important role in data science.MySQL is dominantly used for the same.Tableau &  Microsoft Power BI these two visualization tools captured almost 76% market.'GPUs' play an important role while training machine learning models.\n",
    "Youtube & Kaggle these two media sourses helped data scientists to grow and learn.                "
   ]
  },
  {
   "cell_type": "code",
   "execution_count": null,
   "id": "92193b96",
   "metadata": {},
   "outputs": [],
   "source": []
  }
 ],
 "metadata": {
  "kernelspec": {
   "display_name": "Python 3 (ipykernel)",
   "language": "python",
   "name": "python3"
  },
  "language_info": {
   "codemirror_mode": {
    "name": "ipython",
    "version": 3
   },
   "file_extension": ".py",
   "mimetype": "text/x-python",
   "name": "python",
   "nbconvert_exporter": "python",
   "pygments_lexer": "ipython3",
   "version": "3.9.7"
  }
 },
 "nbformat": 4,
 "nbformat_minor": 5
}
